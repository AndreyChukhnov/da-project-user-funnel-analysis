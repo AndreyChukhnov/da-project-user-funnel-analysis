{
 "cells": [
  {
   "cell_type": "code",
   "execution_count": 38,
   "metadata": {
    "id": "D4fv_mh84EPp"
   },
   "outputs": [],
   "source": [
    "import pandas as pd\n",
    "import os\n",
    "\n",
    "# Получаем путь к текущей директории\n",
    "current_dir = os.getcwd()\n",
    "\n",
    "# Добавляем путь к папке с данными\n",
    "data_dir = os.path.join(current_dir, 'data')\n",
    "\n",
    "# Загружаем данные по событиям\n",
    "event = pd.read_csv(os.path.join(data_dir, '7_4_Events.csv'), sep=',')\n",
    "\n",
    "# Загружаем данные по оплатам\n",
    "purchase = pd.read_csv(os.path.join(data_dir, '7_4_Purchase.csv'), sep=',')"
   ]
  },
  {
   "cell_type": "markdown",
   "metadata": {
    "id": "tIDqE0gf4EPq"
   },
   "source": [
    "Проверка гипотез производится на пользователях, которые зарегистрировались в 2018 году (с 1 января по 31 декабря 2018 года включительно)."
   ]
  },
  {
   "cell_type": "code",
   "execution_count": 39,
   "metadata": {
    "id": "oxirPkc94EPr",
    "outputId": "c2559267-0055-4aa4-e9c8-efe7437b4c0f"
   },
   "outputs": [
    {
     "name": "stdout",
     "output_type": "stream",
     "text": [
      "<class 'pandas.core.frame.DataFrame'>\n",
      "Index: 66959 entries, 51405 to 118364\n",
      "Data columns (total 6 columns):\n",
      " #   Column          Non-Null Count  Dtype  \n",
      "---  ------          --------------  -----  \n",
      " 0   id              66959 non-null  int64  \n",
      " 1   event_type      66959 non-null  object \n",
      " 2   selected_level  8342 non-null   object \n",
      " 3   start_time      66959 non-null  object \n",
      " 4   tutorial_id     32954 non-null  float64\n",
      " 5   user_id         66959 non-null  int64  \n",
      "dtypes: float64(1), int64(2), object(3)\n",
      "memory usage: 3.6+ MB\n"
     ]
    }
   ],
   "source": [
    "condition = (event.start_time >= '2018-01-01') & (event.start_time <= '2019-01-01') & (\n",
    "    event.event_type == 'registration') # условие отбора пользоватедей зарегистрированных в 2018 году\n",
    "\n",
    "registration_list = event[condition]['user_id'].to_list() # создаем список пользователей на 2018\n",
    "event_df = event[event['user_id'].isin(registration_list)] # создаем DF с пользователями зарегистрированными в 2018 году \n",
    "event_df.info()\n"
   ]
  },
  {
   "cell_type": "code",
   "execution_count": 40,
   "metadata": {
    "id": "0kMH0CDK4EPs",
    "outputId": "b79872f7-0b94-43c5-ad8c-94dc363bd576"
   },
   "outputs": [
    {
     "name": "stdout",
     "output_type": "stream",
     "text": [
      "<class 'pandas.core.frame.DataFrame'>\n",
      "Index: 66959 entries, 51405 to 118364\n",
      "Data columns (total 6 columns):\n",
      " #   Column          Non-Null Count  Dtype         \n",
      "---  ------          --------------  -----         \n",
      " 0   id              66959 non-null  int64         \n",
      " 1   event_type      66959 non-null  object        \n",
      " 2   selected_level  8342 non-null   object        \n",
      " 3   start_time      66959 non-null  datetime64[ns]\n",
      " 4   tutorial_id     32954 non-null  float64       \n",
      " 5   user_id         66959 non-null  int64         \n",
      "dtypes: datetime64[ns](1), float64(1), int64(2), object(2)\n",
      "memory usage: 3.6+ MB\n"
     ]
    },
    {
     "name": "stderr",
     "output_type": "stream",
     "text": [
      "C:\\Users\\achuk\\AppData\\Local\\Temp\\ipykernel_14932\\1732206749.py:1: SettingWithCopyWarning: \n",
      "A value is trying to be set on a copy of a slice from a DataFrame.\n",
      "Try using .loc[row_indexer,col_indexer] = value instead\n",
      "\n",
      "See the caveats in the documentation: https://pandas.pydata.org/pandas-docs/stable/user_guide/indexing.html#returning-a-view-versus-a-copy\n",
      "  event_df['start_time'] = pd.to_datetime(\n"
     ]
    }
   ],
   "source": [
    "event_df['start_time'] = pd.to_datetime(\n",
    "    event_df['start_time'], format='%Y-%m-%d %H:%M:%S') # преобразуем формат столбца 'start_time'\n",
    "event_df.info()"
   ]
  },
  {
   "cell_type": "code",
   "execution_count": 41,
   "metadata": {
    "id": "GdHyMUr14EPt",
    "outputId": "9aa0cd9a-ff65-4ea4-c2f7-01f7bcc11633"
   },
   "outputs": [
    {
     "name": "stdout",
     "output_type": "stream",
     "text": [
      "<class 'pandas.core.frame.DataFrame'>\n",
      "Index: 1600 entries, 1171 to 2778\n",
      "Data columns (total 5 columns):\n",
      " #   Column          Non-Null Count  Dtype \n",
      "---  ------          --------------  ----- \n",
      " 0   id              1600 non-null   int64 \n",
      " 1   user_id         1600 non-null   int64 \n",
      " 2   event_datetime  1600 non-null   object\n",
      " 3   amount          1600 non-null   int64 \n",
      " 4   event_type      1600 non-null   object\n",
      "dtypes: int64(3), object(2)\n",
      "memory usage: 75.0+ KB\n"
     ]
    },
    {
     "name": "stderr",
     "output_type": "stream",
     "text": [
      "C:\\Users\\achuk\\AppData\\Local\\Temp\\ipykernel_14932\\2716253393.py:6: SettingWithCopyWarning: \n",
      "A value is trying to be set on a copy of a slice from a DataFrame.\n",
      "Try using .loc[row_indexer,col_indexer] = value instead\n",
      "\n",
      "See the caveats in the documentation: https://pandas.pydata.org/pandas-docs/stable/user_guide/indexing.html#returning-a-view-versus-a-copy\n",
      "  purchase_df['event_type'] = 'purchase'  # добавляем столбец 'event_type' со значениями 'purchase'\n"
     ]
    }
   ],
   "source": [
    "# создаем DF c пользователями зарегистрировавишимя в 2018\n",
    "purchase_df = purchase[\n",
    "    purchase['user_id'].isin(registration_list)\n",
    "    ] \n",
    "# добавляем столбец 'event_type' со значениями 'purchase'\n",
    "purchase_df['event_type'] = 'purchase'  # добавляем столбец 'event_type' со значениями 'purchase'\n",
    "purchase_df.info()"
   ]
  },
  {
   "cell_type": "code",
   "execution_count": 42,
   "metadata": {
    "id": "Pib3ZcGF4EPu",
    "outputId": "2e06cc5b-f45f-4561-98d6-488fd08a56e5"
   },
   "outputs": [
    {
     "name": "stdout",
     "output_type": "stream",
     "text": [
      "<class 'pandas.core.frame.DataFrame'>\n",
      "Index: 1600 entries, 1171 to 2778\n",
      "Data columns (total 5 columns):\n",
      " #   Column          Non-Null Count  Dtype         \n",
      "---  ------          --------------  -----         \n",
      " 0   id              1600 non-null   int64         \n",
      " 1   user_id         1600 non-null   int64         \n",
      " 2   event_datetime  1600 non-null   datetime64[ns]\n",
      " 3   amount          1600 non-null   int64         \n",
      " 4   event_type      1600 non-null   object        \n",
      "dtypes: datetime64[ns](1), int64(3), object(1)\n",
      "memory usage: 75.0+ KB\n"
     ]
    },
    {
     "name": "stderr",
     "output_type": "stream",
     "text": [
      "C:\\Users\\achuk\\AppData\\Local\\Temp\\ipykernel_14932\\83849184.py:2: SettingWithCopyWarning: \n",
      "A value is trying to be set on a copy of a slice from a DataFrame.\n",
      "Try using .loc[row_indexer,col_indexer] = value instead\n",
      "\n",
      "See the caveats in the documentation: https://pandas.pydata.org/pandas-docs/stable/user_guide/indexing.html#returning-a-view-versus-a-copy\n",
      "  purchase_df.event_datetime =pd.to_datetime(\n"
     ]
    }
   ],
   "source": [
    "# преобразуем формат признака event_datetime\n",
    "purchase_df.event_datetime =pd.to_datetime(\n",
    "    purchase_df.event_datetime, format='%Y-%m-%dT%H:%M:%S'\n",
    "    ) \n",
    "purchase_df.info()"
   ]
  },
  {
   "cell_type": "code",
   "execution_count": 43,
   "metadata": {
    "id": "dN85sXSr4EPu",
    "outputId": "a10e6d49-c417-4020-a468-c747f22d30bf"
   },
   "outputs": [
    {
     "data": {
      "text/html": [
       "<div>\n",
       "<style scoped>\n",
       "    .dataframe tbody tr th:only-of-type {\n",
       "        vertical-align: middle;\n",
       "    }\n",
       "\n",
       "    .dataframe tbody tr th {\n",
       "        vertical-align: top;\n",
       "    }\n",
       "\n",
       "    .dataframe thead th {\n",
       "        text-align: right;\n",
       "    }\n",
       "</style>\n",
       "<table border=\"1\" class=\"dataframe\">\n",
       "  <thead>\n",
       "    <tr style=\"text-align: right;\">\n",
       "      <th></th>\n",
       "      <th>id</th>\n",
       "      <th>event_type</th>\n",
       "      <th>selected_level</th>\n",
       "      <th>start_time</th>\n",
       "      <th>tutorial_id</th>\n",
       "      <th>user_id</th>\n",
       "      <th>event_datetime</th>\n",
       "      <th>amount</th>\n",
       "    </tr>\n",
       "  </thead>\n",
       "  <tbody>\n",
       "    <tr>\n",
       "      <th>51405</th>\n",
       "      <td>80308</td>\n",
       "      <td>registration</td>\n",
       "      <td>NaN</td>\n",
       "      <td>2018-01-01 03:48:40</td>\n",
       "      <td>NaN</td>\n",
       "      <td>27832</td>\n",
       "      <td>NaT</td>\n",
       "      <td>NaN</td>\n",
       "    </tr>\n",
       "    <tr>\n",
       "      <th>51406</th>\n",
       "      <td>80309</td>\n",
       "      <td>registration</td>\n",
       "      <td>NaN</td>\n",
       "      <td>2018-01-01 04:07:25</td>\n",
       "      <td>NaN</td>\n",
       "      <td>27833</td>\n",
       "      <td>NaT</td>\n",
       "      <td>NaN</td>\n",
       "    </tr>\n",
       "    <tr>\n",
       "      <th>51407</th>\n",
       "      <td>80310</td>\n",
       "      <td>registration</td>\n",
       "      <td>NaN</td>\n",
       "      <td>2018-01-01 08:35:10</td>\n",
       "      <td>NaN</td>\n",
       "      <td>27834</td>\n",
       "      <td>NaT</td>\n",
       "      <td>NaN</td>\n",
       "    </tr>\n",
       "    <tr>\n",
       "      <th>51408</th>\n",
       "      <td>80311</td>\n",
       "      <td>registration</td>\n",
       "      <td>NaN</td>\n",
       "      <td>2018-01-01 11:54:47</td>\n",
       "      <td>NaN</td>\n",
       "      <td>27835</td>\n",
       "      <td>NaT</td>\n",
       "      <td>NaN</td>\n",
       "    </tr>\n",
       "    <tr>\n",
       "      <th>51409</th>\n",
       "      <td>80312</td>\n",
       "      <td>registration</td>\n",
       "      <td>NaN</td>\n",
       "      <td>2018-01-01 13:28:07</td>\n",
       "      <td>NaN</td>\n",
       "      <td>27836</td>\n",
       "      <td>NaT</td>\n",
       "      <td>NaN</td>\n",
       "    </tr>\n",
       "  </tbody>\n",
       "</table>\n",
       "</div>"
      ],
      "text/plain": [
       "          id    event_type selected_level          start_time  tutorial_id  \\\n",
       "51405  80308  registration            NaN 2018-01-01 03:48:40          NaN   \n",
       "51406  80309  registration            NaN 2018-01-01 04:07:25          NaN   \n",
       "51407  80310  registration            NaN 2018-01-01 08:35:10          NaN   \n",
       "51408  80311  registration            NaN 2018-01-01 11:54:47          NaN   \n",
       "51409  80312  registration            NaN 2018-01-01 13:28:07          NaN   \n",
       "\n",
       "       user_id event_datetime  amount  \n",
       "51405    27832            NaT     NaN  \n",
       "51406    27833            NaT     NaN  \n",
       "51407    27834            NaT     NaN  \n",
       "51408    27835            NaT     NaN  \n",
       "51409    27836            NaT     NaN  "
      ]
     },
     "execution_count": 43,
     "metadata": {},
     "output_type": "execute_result"
    }
   ],
   "source": [
    "total_event_df = pd.concat([event_df, purchase_df], sort=False) # объединяем датафреймы events_df и purchase_df \n",
    "total_event_df.head()"
   ]
  },
  {
   "cell_type": "code",
   "execution_count": 44,
   "metadata": {
    "id": "uneDzQuS4EPv",
    "outputId": "3a562c09-d4f7-4b84-ba20-30a05cfa94c1"
   },
   "outputs": [
    {
     "name": "stdout",
     "output_type": "stream",
     "text": [
      "<class 'pandas.core.frame.DataFrame'>\n",
      "Index: 68559 entries, 51405 to 2778\n",
      "Data columns (total 8 columns):\n",
      " #   Column          Non-Null Count  Dtype         \n",
      "---  ------          --------------  -----         \n",
      " 0   id              68559 non-null  int64         \n",
      " 1   event_type      68559 non-null  object        \n",
      " 2   selected_level  8342 non-null   object        \n",
      " 3   start_time      66959 non-null  datetime64[ns]\n",
      " 4   tutorial_id     32954 non-null  float64       \n",
      " 5   user_id         68559 non-null  int64         \n",
      " 6   event_datetime  1600 non-null   datetime64[ns]\n",
      " 7   amount          1600 non-null   float64       \n",
      "dtypes: datetime64[ns](2), float64(2), int64(2), object(2)\n",
      "memory usage: 4.7+ MB\n"
     ]
    }
   ],
   "source": [
    "total_event_df.info() # проверяем объединение "
   ]
  },
  {
   "cell_type": "markdown",
   "metadata": {
    "id": "twRDtsl-4EPw"
   },
   "source": [
    "1. ЗАДАЧА 1. Определить, насколько обучение сокращает время прохождения этапов игры."
   ]
  },
  {
   "cell_type": "code",
   "execution_count": 45,
   "metadata": {
    "id": "_BC4Y9n04EPw",
    "outputId": "05ed6c79-2c22-4f42-9347-1c41a9af3cc7"
   },
   "outputs": [
    {
     "data": {
      "text/plain": [
       "array(['registration', 'tutorial_start', 'tutorial_finish',\n",
       "       'level_choice', 'pack_choice', 'purchase'], dtype=object)"
      ]
     },
     "execution_count": 45,
     "metadata": {},
     "output_type": "execute_result"
    }
   ],
   "source": [
    "total_event_df.event_type.unique() # определяем уникальные значения в признаке event_type"
   ]
  },
  {
   "cell_type": "markdown",
   "metadata": {
    "id": "_hYPsBPp4EPw"
   },
   "source": [
    "Разделяем пользователей на группы которые:\n",
    "- хотя бы один раз завершили обчение;\n",
    "- не проходили обчение;"
   ]
  },
  {
   "cell_type": "code",
   "execution_count": 46,
   "metadata": {
    "id": "khVbvaci4EPx",
    "outputId": "08b6efc8-562b-4959-8937-f70dc893a3dc"
   },
   "outputs": [
    {
     "name": "stdout",
     "output_type": "stream",
     "text": [
      "11858 10250 8068\n"
     ]
    }
   ],
   "source": [
    "# выделяем группу пользователей, которые начали обучение\n",
    "users_with_tutorial_start = set(total_event_df[\n",
    "    total_event_df.event_type == 'tutorial_start']['user_id'].unique())  \n",
    "\n",
    "# выделяем группу пользователей, которые завершили обучение\n",
    "users_with_tutorial_finish = set(total_event_df[\n",
    "    total_event_df.event_type == 'tutorial_finish']['user_id'].unique())  \n",
    "\n",
    "# выделяем группу пользователей, не начинали обучение \n",
    "users_without_tutorial = set(event_df[~event_df.user_id.isin(users_with_tutorial_start)]['user_id'].unique())\n",
    "\n",
    "print(len(users_with_tutorial_start), len(users_with_tutorial_finish), len(users_without_tutorial))\n"
   ]
  },
  {
   "cell_type": "markdown",
   "metadata": {
    "id": "fPkvNXN44EPx"
   },
   "source": [
    "1.1 Определяем продолжительность этапов для группы пользователей, неначавших обучение (group_one)"
   ]
  },
  {
   "cell_type": "code",
   "execution_count": 47,
   "metadata": {
    "id": "3GsiGV_r4EPy",
    "outputId": "bbe39643-8efc-47af-cf0a-66c8bcb9e5a8"
   },
   "outputs": [
    {
     "data": {
      "text/html": [
       "<div>\n",
       "<style scoped>\n",
       "    .dataframe tbody tr th:only-of-type {\n",
       "        vertical-align: middle;\n",
       "    }\n",
       "\n",
       "    .dataframe tbody tr th {\n",
       "        vertical-align: top;\n",
       "    }\n",
       "\n",
       "    .dataframe thead th {\n",
       "        text-align: right;\n",
       "    }\n",
       "</style>\n",
       "<table border=\"1\" class=\"dataframe\">\n",
       "  <thead>\n",
       "    <tr style=\"text-align: right;\">\n",
       "      <th></th>\n",
       "      <th>user_id</th>\n",
       "      <th>registration_time_1</th>\n",
       "      <th>level_choice_time</th>\n",
       "      <th>pack_choice_time</th>\n",
       "      <th>purc_time</th>\n",
       "    </tr>\n",
       "  </thead>\n",
       "  <tbody>\n",
       "    <tr>\n",
       "      <th>0</th>\n",
       "      <td>27832</td>\n",
       "      <td>2018-01-01 03:48:40</td>\n",
       "      <td>NaT</td>\n",
       "      <td>NaT</td>\n",
       "      <td>NaT</td>\n",
       "    </tr>\n",
       "    <tr>\n",
       "      <th>1</th>\n",
       "      <td>27837</td>\n",
       "      <td>2018-01-01 14:08:40</td>\n",
       "      <td>NaT</td>\n",
       "      <td>NaT</td>\n",
       "      <td>NaT</td>\n",
       "    </tr>\n",
       "    <tr>\n",
       "      <th>2</th>\n",
       "      <td>27838</td>\n",
       "      <td>2018-01-01 14:42:58</td>\n",
       "      <td>NaT</td>\n",
       "      <td>NaT</td>\n",
       "      <td>NaT</td>\n",
       "    </tr>\n",
       "    <tr>\n",
       "      <th>3</th>\n",
       "      <td>27844</td>\n",
       "      <td>2018-01-02 00:13:22</td>\n",
       "      <td>NaT</td>\n",
       "      <td>NaT</td>\n",
       "      <td>NaT</td>\n",
       "    </tr>\n",
       "    <tr>\n",
       "      <th>4</th>\n",
       "      <td>27848</td>\n",
       "      <td>2018-01-02 06:05:02</td>\n",
       "      <td>NaT</td>\n",
       "      <td>NaT</td>\n",
       "      <td>NaT</td>\n",
       "    </tr>\n",
       "  </tbody>\n",
       "</table>\n",
       "</div>"
      ],
      "text/plain": [
       "   user_id registration_time_1 level_choice_time pack_choice_time purc_time\n",
       "0    27832 2018-01-01 03:48:40               NaT              NaT       NaT\n",
       "1    27837 2018-01-01 14:08:40               NaT              NaT       NaT\n",
       "2    27838 2018-01-01 14:42:58               NaT              NaT       NaT\n",
       "3    27844 2018-01-02 00:13:22               NaT              NaT       NaT\n",
       "4    27848 2018-01-02 06:05:02               NaT              NaT       NaT"
      ]
     },
     "execution_count": 47,
     "metadata": {},
     "output_type": "execute_result"
    }
   ],
   "source": [
    "users_without_tutorial_DF = total_event_df[\n",
    "    total_event_df.user_id.isin(users_without_tutorial)] \n",
    "# создаем DF с пользователями которые начали обучение\n",
    "\n",
    "\n",
    "date_regestration_group_one_df = users_without_tutorial_DF[\n",
    "    users_without_tutorial_DF['event_type']=='registration'] # создаем DF c датой регистрации пользователя\n",
    "date_regestration_group_one_df = date_regestration_group_one_df[[\"user_id\", \"start_time\"]].rename(\n",
    "    columns={\"start_time\":\"registration_time_1\"} \n",
    ") # оставляем колонны user_id и registration_time\n",
    "\n",
    "date_level_choise_group_one_df = users_without_tutorial_DF[\n",
    "    users_without_tutorial_DF.event_type == 'level_choice'].sort_values(\n",
    "        'start_time').drop_duplicates(\"user_id\") # создаем DF c датой выбора уровня \n",
    "date_level_choise_group_one_df = date_level_choise_group_one_df[['user_id', 'start_time']].rename(\n",
    "    columns={'start_time': 'level_choice_time'}\n",
    ") # оставляем колонны user_id и level_choice_time\n",
    "\n",
    "merged_group_one_df = date_regestration_group_one_df.merge(\n",
    "    date_level_choise_group_one_df,\n",
    "    on='user_id',\n",
    "    how='left'\n",
    ") # объединяем DF date_regestration_group_one_df и date_level_choise_group_one_df\n",
    "\n",
    "\n",
    "date_pack_choice_group_one_df = users_without_tutorial_DF[\n",
    "    users_without_tutorial_DF.event_type == 'pack_choice'].sort_values(\n",
    "        'start_time').drop_duplicates(\"user_id\") # создаем DF c датой выбора пакета вопросов\n",
    "date_pack_choice_group_one_df = date_pack_choice_group_one_df[['user_id', 'start_time']].rename(\n",
    "    columns={'start_time': 'pack_choice_time'}\n",
    ") # оставляем колонны user_id и level_choice_time\n",
    "\n",
    "merged_group_one_df = merged_group_one_df.merge(\n",
    "    date_pack_choice_group_one_df,\n",
    "    on='user_id',\n",
    "    how='left'\n",
    ") # объединяем  DF  merged_group_one_df с date_pack_choice_group_one_df\n",
    "\n",
    "date_purchase_group_one_df = users_without_tutorial_DF[\n",
    "    users_without_tutorial_DF.event_type == 'purchase'].sort_values(\n",
    "        'event_datetime').drop_duplicates(\"user_id\")  # создаем DF c датой выбора пакета вопросов\n",
    "date_purchase_group_one_df = date_purchase_group_one_df[['user_id', 'event_datetime']].rename(\n",
    "    columns={'event_datetime': 'purc_time'}\n",
    ") # оставляем колонны user_id и purchase_time\n",
    "merged_group_one_df = merged_group_one_df.merge(\n",
    "    date_purchase_group_one_df,\n",
    "    on='user_id',\n",
    "    how='left'\n",
    ") # объединяем  DF  merged_group_one_df с date_purchase_group_one_df\n",
    "merged_group_one_df.head()\n"
   ]
  },
  {
   "cell_type": "code",
   "execution_count": 48,
   "metadata": {
    "id": "HfBWysAD4EPy",
    "outputId": "5c2e0e7b-8a8a-4e94-857a-944f81e87984"
   },
   "outputs": [
    {
     "data": {
      "text/html": [
       "<div>\n",
       "<style scoped>\n",
       "    .dataframe tbody tr th:only-of-type {\n",
       "        vertical-align: middle;\n",
       "    }\n",
       "\n",
       "    .dataframe tbody tr th {\n",
       "        vertical-align: top;\n",
       "    }\n",
       "\n",
       "    .dataframe thead th {\n",
       "        text-align: right;\n",
       "    }\n",
       "</style>\n",
       "<table border=\"1\" class=\"dataframe\">\n",
       "  <thead>\n",
       "    <tr style=\"text-align: right;\">\n",
       "      <th></th>\n",
       "      <th>user_id</th>\n",
       "      <th>registration_time_1</th>\n",
       "      <th>level_choice_time</th>\n",
       "      <th>pack_choice_time</th>\n",
       "      <th>purc_time</th>\n",
       "      <th>td_level_choice</th>\n",
       "      <th>td_pack_choice</th>\n",
       "      <th>td_purchase</th>\n",
       "      <th>td_allway</th>\n",
       "      <th>group_type</th>\n",
       "    </tr>\n",
       "  </thead>\n",
       "  <tbody>\n",
       "    <tr>\n",
       "      <th>0</th>\n",
       "      <td>27832</td>\n",
       "      <td>2018-01-01 03:48:40</td>\n",
       "      <td>NaT</td>\n",
       "      <td>NaT</td>\n",
       "      <td>NaT</td>\n",
       "      <td>NaN</td>\n",
       "      <td>NaN</td>\n",
       "      <td>NaN</td>\n",
       "      <td>NaN</td>\n",
       "      <td>without_tutorial</td>\n",
       "    </tr>\n",
       "    <tr>\n",
       "      <th>1</th>\n",
       "      <td>27837</td>\n",
       "      <td>2018-01-01 14:08:40</td>\n",
       "      <td>NaT</td>\n",
       "      <td>NaT</td>\n",
       "      <td>NaT</td>\n",
       "      <td>NaN</td>\n",
       "      <td>NaN</td>\n",
       "      <td>NaN</td>\n",
       "      <td>NaN</td>\n",
       "      <td>without_tutorial</td>\n",
       "    </tr>\n",
       "    <tr>\n",
       "      <th>2</th>\n",
       "      <td>27838</td>\n",
       "      <td>2018-01-01 14:42:58</td>\n",
       "      <td>NaT</td>\n",
       "      <td>NaT</td>\n",
       "      <td>NaT</td>\n",
       "      <td>NaN</td>\n",
       "      <td>NaN</td>\n",
       "      <td>NaN</td>\n",
       "      <td>NaN</td>\n",
       "      <td>without_tutorial</td>\n",
       "    </tr>\n",
       "    <tr>\n",
       "      <th>3</th>\n",
       "      <td>27844</td>\n",
       "      <td>2018-01-02 00:13:22</td>\n",
       "      <td>NaT</td>\n",
       "      <td>NaT</td>\n",
       "      <td>NaT</td>\n",
       "      <td>NaN</td>\n",
       "      <td>NaN</td>\n",
       "      <td>NaN</td>\n",
       "      <td>NaN</td>\n",
       "      <td>without_tutorial</td>\n",
       "    </tr>\n",
       "    <tr>\n",
       "      <th>4</th>\n",
       "      <td>27848</td>\n",
       "      <td>2018-01-02 06:05:02</td>\n",
       "      <td>NaT</td>\n",
       "      <td>NaT</td>\n",
       "      <td>NaT</td>\n",
       "      <td>NaN</td>\n",
       "      <td>NaN</td>\n",
       "      <td>NaN</td>\n",
       "      <td>NaN</td>\n",
       "      <td>without_tutorial</td>\n",
       "    </tr>\n",
       "  </tbody>\n",
       "</table>\n",
       "</div>"
      ],
      "text/plain": [
       "   user_id registration_time_1 level_choice_time pack_choice_time purc_time  \\\n",
       "0    27832 2018-01-01 03:48:40               NaT              NaT       NaT   \n",
       "1    27837 2018-01-01 14:08:40               NaT              NaT       NaT   \n",
       "2    27838 2018-01-01 14:42:58               NaT              NaT       NaT   \n",
       "3    27844 2018-01-02 00:13:22               NaT              NaT       NaT   \n",
       "4    27848 2018-01-02 06:05:02               NaT              NaT       NaT   \n",
       "\n",
       "   td_level_choice  td_pack_choice  td_purchase  td_allway        group_type  \n",
       "0              NaN             NaN          NaN        NaN  without_tutorial  \n",
       "1              NaN             NaN          NaN        NaN  without_tutorial  \n",
       "2              NaN             NaN          NaN        NaN  without_tutorial  \n",
       "3              NaN             NaN          NaN        NaN  without_tutorial  \n",
       "4              NaN             NaN          NaN        NaN  without_tutorial  "
      ]
     },
     "execution_count": 48,
     "metadata": {},
     "output_type": "execute_result"
    }
   ],
   "source": [
    "# Определяем временные промежутки между событиями совершенных пользователями\n",
    "merged_group_one_df['td_level_choice'] = (\n",
    "    merged_group_one_df.level_choice_time - merged_group_one_df.registration_time_1) / pd.Timedelta(\n",
    "        '1hour')    # временной промежуток в часах между регистрацией и уровня сложности\n",
    "merged_group_one_df['td_pack_choice'] = (\n",
    "    merged_group_one_df.pack_choice_time - merged_group_one_df.level_choice_time) / pd.Timedelta(\n",
    "        '1hour')    # временной промежуток в часах между выбором уровня сложности и вобором пакета вопросов\n",
    "merged_group_one_df['td_purchase'] = (\n",
    "    merged_group_one_df.purc_time - merged_group_one_df.pack_choice_time) / pd.Timedelta(\n",
    "        '1hour')    # временной промежуток в часах между вобором пакета вопросов и оплатой \n",
    "merged_group_one_df['td_allway'] = (\n",
    "    merged_group_one_df.purc_time - merged_group_one_df.registration_time_1) / pd.Timedelta(\n",
    "        '1hour') # временной промежуток в часах между регистрацией и покупкой платных вопросов \n",
    "merged_group_one_df['group_type'] = 'without_tutorial' # добавляем признак 'group_type'\n",
    "merged_group_one_df.head()"
   ]
  },
  {
   "cell_type": "markdown",
   "metadata": {
    "id": "mpj9hjsz4EPz"
   },
   "source": [
    "1.2 Определяем продолжительность этапов для группы пользователей, завершивших обучение (group_two)"
   ]
  },
  {
   "cell_type": "code",
   "execution_count": 49,
   "metadata": {
    "id": "WwBNHQ-r4EPz"
   },
   "outputs": [],
   "source": [
    "users_with_tutorial_finish_df = total_event_df[\n",
    "    total_event_df.user_id.isin(users_with_tutorial_finish)]     # создаем DF с пользователями завершими обучение \n",
    "\n",
    "date_regestration_group_two_df = users_with_tutorial_finish_df[\n",
    "    users_with_tutorial_finish_df.event_type == 'registration'\n",
    "].sort_values('start_time').drop_duplicates(\"user_id\")     # Создаем DF с датой регистрации\n",
    "date_regestration_group_two_df = date_regestration_group_two_df[['user_id', 'start_time']].rename(\n",
    "    columns={'start_time': 'registration_time_2'}\n",
    ")     # оставляем колонны user_id и registration_time\n",
    "\n",
    "date_tutorial_start_group_two_df = users_with_tutorial_finish_df[\n",
    "    users_with_tutorial_finish_df.event_type == 'tutorial_start'\n",
    "].sort_values('start_time').drop_duplicates(\"user_id\")    # Создаем DF с датой старта обучения\n",
    "\n",
    "date_tutorial_start_group_two_df = date_tutorial_start_group_two_df[['user_id', 'start_time']].rename(\n",
    "    columns={'start_time':'tut_start_time_2'}\n",
    ")\n",
    "\n",
    "date_tutorial_finish_group_two_df = users_with_tutorial_finish_df[\n",
    "    users_with_tutorial_finish_df.event_type == 'tutorial_finish'\n",
    "].sort_values('start_time').drop_duplicates(\"user_id\")     # Создаем DF с датой окончания обучения\n",
    "date_tutorial_finish_group_two_df = date_tutorial_finish_group_two_df[['user_id', 'start_time']].rename(\n",
    "    columns={'start_time':'tut_finish_time_2'}\n",
    ")\n",
    "\n",
    "date_pack_choice_group_two_df = users_with_tutorial_finish_df[\n",
    "    users_with_tutorial_finish_df.event_type == 'pack_choice'].sort_values('start_time').drop_duplicates(\n",
    "        'user_id')  # Создаем DF с датой выбора пакета вопросов обучения\n",
    "date_pack_choice_group_two_df = date_pack_choice_group_two_df[['user_id', 'start_time']].rename(\n",
    "    columns={'start_time':'pack_choice_time_2'}\n",
    ") \n",
    "\n",
    "date_level_choise_group_two_df = users_with_tutorial_finish_df[\n",
    "    users_with_tutorial_finish_df.event_type == 'level_choice'][['user_id', 'start_time']].rename(\n",
    "        columns={'start_time':'level_choce_time_2'}).sort_values('level_choce_time_2').drop_duplicates(\n",
    "            'user_id')  # Создаем DF с датой выбора уровня сложности\n",
    "\n",
    "date_purchase_group_two_df = users_with_tutorial_finish_df[\n",
    "    users_with_tutorial_finish_df.event_type == 'purchase'][['user_id', 'event_datetime']].rename(\n",
    "        columns={'event_datetime':'purc_time_2'}).sort_values('purc_time_2').drop_duplicates(\n",
    "            'user_id')  # Создаем DF с датой покупки платнных вопросов\n"
   ]
  },
  {
   "cell_type": "code",
   "execution_count": 50,
   "metadata": {
    "id": "EcEqBHtz4EP0",
    "outputId": "7d7c1629-a78a-4b5f-9317-8d86aaa4605a"
   },
   "outputs": [
    {
     "name": "stdout",
     "output_type": "stream",
     "text": [
      "<class 'pandas.core.frame.DataFrame'>\n",
      "RangeIndex: 10250 entries, 0 to 10249\n",
      "Data columns (total 14 columns):\n",
      " #   Column               Non-Null Count  Dtype         \n",
      "---  ------               --------------  -----         \n",
      " 0   user_id              10250 non-null  int64         \n",
      " 1   registration_time_2  10250 non-null  datetime64[ns]\n",
      " 2   tut_start_time_2     10250 non-null  datetime64[ns]\n",
      " 3   tut_finish_time_2    10250 non-null  datetime64[ns]\n",
      " 4   level_choce_time_2   7501 non-null   datetime64[ns]\n",
      " 5   pack_choice_time_2   5176 non-null   datetime64[ns]\n",
      " 6   purc_time_2          1447 non-null   datetime64[ns]\n",
      " 7   td_tut_start         10250 non-null  float64       \n",
      " 8   td_tut_finish        10250 non-null  float64       \n",
      " 9   td_level_choice      7501 non-null   float64       \n",
      " 10  td_pack_choice       5176 non-null   float64       \n",
      " 11  td_purchase          1447 non-null   float64       \n",
      " 12  td_allway            1447 non-null   float64       \n",
      " 13  group_type           10250 non-null  object        \n",
      "dtypes: datetime64[ns](6), float64(6), int64(1), object(1)\n",
      "memory usage: 1.1+ MB\n"
     ]
    }
   ],
   "source": [
    "# Последовательно объединяем DF  в один merged_group_two_df\n",
    "merged_group_two_df = date_regestration_group_two_df.merge(\n",
    "    date_tutorial_start_group_two_df, \n",
    "    on='user_id',\n",
    "    how='left'\n",
    "    \n",
    ")\n",
    "merged_group_two_df = merged_group_two_df.merge(\n",
    "    date_tutorial_finish_group_two_df,\n",
    "    on='user_id',\n",
    "    how='left'\n",
    ")\n",
    "merged_group_two_df = merged_group_two_df.merge(\n",
    "    date_level_choise_group_two_df,\n",
    "    on='user_id',\n",
    "    how='left'\n",
    ")\n",
    "merged_group_two_df = merged_group_two_df.merge(\n",
    "    date_pack_choice_group_two_df,\n",
    "    on='user_id',\n",
    "    how='left'\n",
    ")\n",
    "merged_group_two_df = merged_group_two_df.merge(\n",
    "    date_purchase_group_two_df,\n",
    "    on='user_id',\n",
    "    how='left'\n",
    ")\n",
    "\n",
    "# Определяем временные промежутки между ключевыми этапами пути пользователя\n",
    "merged_group_two_df['td_tut_start'] = (\n",
    "    merged_group_two_df.tut_start_time_2 - merged_group_two_df.registration_time_2\n",
    "    ) / pd.Timedelta('1hour')   # временной промежуток в часах между регистрацией и стартом обучения\n",
    "merged_group_two_df['td_tut_finish'] = (\n",
    "    merged_group_two_df.tut_finish_time_2 - merged_group_two_df.tut_start_time_2\n",
    "    ) / pd.Timedelta('1hour') # временной промежуток в часах между стартом и окончанием обучения \n",
    "merged_group_two_df['td_level_choice'] = (\n",
    "    merged_group_two_df.level_choce_time_2 - merged_group_two_df.tut_finish_time_2\n",
    "    ) / pd.Timedelta('1hour')   # временной промежуток в часах между окончанием обучения и и выбором уровня сложности\n",
    "merged_group_two_df['td_pack_choice'] = (\n",
    "    merged_group_two_df.pack_choice_time_2 - merged_group_two_df.level_choce_time_2\n",
    "    ) / pd.Timedelta('1hour')   # временной промежуток в часах между выбором пакета вопросов и уровня слодности\n",
    "merged_group_two_df['td_purchase'] = (\n",
    "    merged_group_two_df.purc_time_2- merged_group_two_df.pack_choice_time_2\n",
    "    ) / pd.Timedelta('1hour')   # временной промежуток в часах между покупкой платных вопросов и выбором пакета \n",
    "merged_group_two_df['td_allway'] = (\n",
    "    merged_group_two_df.purc_time_2 - merged_group_two_df.registration_time_2\n",
    "    ) / pd.Timedelta('1hour')   # временной промежуток в часах между регистрацией и покупкой платных вопросов \n",
    "merged_group_two_df['group_type'] = 'with_tutorial' # добавляем признак 'group_type' \n",
    "\n",
    "merged_group_two_df.info()"
   ]
  },
  {
   "cell_type": "code",
   "execution_count": 51,
   "metadata": {
    "id": "j21Dgf494EP1",
    "outputId": "229965f7-06ba-4c81-f34c-063596a35c5a"
   },
   "outputs": [
    {
     "data": {
      "text/html": [
       "<div>\n",
       "<style scoped>\n",
       "    .dataframe tbody tr th:only-of-type {\n",
       "        vertical-align: middle;\n",
       "    }\n",
       "\n",
       "    .dataframe tbody tr th {\n",
       "        vertical-align: top;\n",
       "    }\n",
       "\n",
       "    .dataframe thead th {\n",
       "        text-align: right;\n",
       "    }\n",
       "</style>\n",
       "<table border=\"1\" class=\"dataframe\">\n",
       "  <thead>\n",
       "    <tr style=\"text-align: right;\">\n",
       "      <th></th>\n",
       "      <th>user_id</th>\n",
       "      <th>registration_time_2</th>\n",
       "      <th>tut_start_time_2</th>\n",
       "      <th>tut_finish_time_2</th>\n",
       "      <th>level_choce_time_2</th>\n",
       "      <th>pack_choice_time_2</th>\n",
       "      <th>purc_time_2</th>\n",
       "      <th>td_tut_start</th>\n",
       "      <th>td_tut_finish</th>\n",
       "      <th>td_level_choice</th>\n",
       "      <th>td_pack_choice</th>\n",
       "      <th>td_purchase</th>\n",
       "      <th>td_allway</th>\n",
       "    </tr>\n",
       "  </thead>\n",
       "  <tbody>\n",
       "    <tr>\n",
       "      <th>count</th>\n",
       "      <td>10250.000000</td>\n",
       "      <td>10250</td>\n",
       "      <td>10250</td>\n",
       "      <td>10250</td>\n",
       "      <td>7501</td>\n",
       "      <td>5176</td>\n",
       "      <td>1447</td>\n",
       "      <td>10250.000000</td>\n",
       "      <td>10250.000000</td>\n",
       "      <td>7501.000000</td>\n",
       "      <td>5176.000000</td>\n",
       "      <td>1447.000000</td>\n",
       "      <td>1447.000000</td>\n",
       "    </tr>\n",
       "    <tr>\n",
       "      <th>mean</th>\n",
       "      <td>37775.738244</td>\n",
       "      <td>2018-07-02 23:24:55.788780288</td>\n",
       "      <td>2018-07-03 03:56:00.726926848</td>\n",
       "      <td>2018-07-03 04:08:14.550048768</td>\n",
       "      <td>2018-07-04 04:02:24.671243776</td>\n",
       "      <td>2018-07-04 18:49:00.088098816</td>\n",
       "      <td>2018-07-05 19:13:35.193504</td>\n",
       "      <td>4.518038</td>\n",
       "      <td>0.203840</td>\n",
       "      <td>2.329711</td>\n",
       "      <td>0.088374</td>\n",
       "      <td>89.299900</td>\n",
       "      <td>96.500902</td>\n",
       "    </tr>\n",
       "    <tr>\n",
       "      <th>min</th>\n",
       "      <td>27833.000000</td>\n",
       "      <td>2018-01-01 04:07:25</td>\n",
       "      <td>2018-01-01 14:54:40</td>\n",
       "      <td>2018-01-01 15:06:15</td>\n",
       "      <td>2018-01-01 20:37:22</td>\n",
       "      <td>2018-01-01 20:38:43</td>\n",
       "      <td>2018-01-03 18:53:43</td>\n",
       "      <td>0.009444</td>\n",
       "      <td>0.004444</td>\n",
       "      <td>0.016111</td>\n",
       "      <td>0.005278</td>\n",
       "      <td>0.747222</td>\n",
       "      <td>4.616111</td>\n",
       "    </tr>\n",
       "    <tr>\n",
       "      <th>25%</th>\n",
       "      <td>32828.500000</td>\n",
       "      <td>2018-03-23 22:11:48.249999872</td>\n",
       "      <td>2018-03-24 02:51:17</td>\n",
       "      <td>2018-03-24 02:54:59.750000128</td>\n",
       "      <td>2018-03-24 13:47:36</td>\n",
       "      <td>2018-03-25 02:24:08.500000</td>\n",
       "      <td>2018-03-27 14:29:37</td>\n",
       "      <td>1.298750</td>\n",
       "      <td>0.041944</td>\n",
       "      <td>1.150556</td>\n",
       "      <td>0.051389</td>\n",
       "      <td>45.268194</td>\n",
       "      <td>52.165278</td>\n",
       "    </tr>\n",
       "    <tr>\n",
       "      <th>50%</th>\n",
       "      <td>37669.500000</td>\n",
       "      <td>2018-06-23 08:52:50</td>\n",
       "      <td>2018-06-23 09:59:01.500000</td>\n",
       "      <td>2018-06-23 10:33:52</td>\n",
       "      <td>2018-06-23 20:18:59</td>\n",
       "      <td>2018-06-25 20:19:02.500000</td>\n",
       "      <td>2018-06-25 22:56:25</td>\n",
       "      <td>3.230000</td>\n",
       "      <td>0.063611</td>\n",
       "      <td>2.239444</td>\n",
       "      <td>0.082778</td>\n",
       "      <td>84.265556</td>\n",
       "      <td>91.083056</td>\n",
       "    </tr>\n",
       "    <tr>\n",
       "      <th>75%</th>\n",
       "      <td>42774.750000</td>\n",
       "      <td>2018-10-12 15:58:39</td>\n",
       "      <td>2018-10-12 19:57:50.750000128</td>\n",
       "      <td>2018-10-12 20:02:29.750000128</td>\n",
       "      <td>2018-10-14 04:29:37</td>\n",
       "      <td>2018-10-15 17:27:23</td>\n",
       "      <td>2018-10-19 18:35:42.500000</td>\n",
       "      <td>6.624375</td>\n",
       "      <td>0.088611</td>\n",
       "      <td>3.408889</td>\n",
       "      <td>0.119722</td>\n",
       "      <td>128.895694</td>\n",
       "      <td>135.770556</td>\n",
       "    </tr>\n",
       "    <tr>\n",
       "      <th>max</th>\n",
       "      <td>47756.000000</td>\n",
       "      <td>2018-12-31 23:17:30</td>\n",
       "      <td>2019-01-01 03:26:18</td>\n",
       "      <td>2019-01-01 03:29:25</td>\n",
       "      <td>2019-01-01 05:42:11</td>\n",
       "      <td>2019-01-01 05:50:36</td>\n",
       "      <td>2019-01-06 07:14:25</td>\n",
       "      <td>40.062778</td>\n",
       "      <td>18.908056</td>\n",
       "      <td>6.612500</td>\n",
       "      <td>0.263333</td>\n",
       "      <td>258.566389</td>\n",
       "      <td>264.584444</td>\n",
       "    </tr>\n",
       "    <tr>\n",
       "      <th>std</th>\n",
       "      <td>5760.669397</td>\n",
       "      <td>NaN</td>\n",
       "      <td>NaN</td>\n",
       "      <td>NaN</td>\n",
       "      <td>NaN</td>\n",
       "      <td>NaN</td>\n",
       "      <td>NaN</td>\n",
       "      <td>4.190230</td>\n",
       "      <td>1.024448</td>\n",
       "      <td>1.417378</td>\n",
       "      <td>0.045680</td>\n",
       "      <td>52.533279</td>\n",
       "      <td>52.791652</td>\n",
       "    </tr>\n",
       "  </tbody>\n",
       "</table>\n",
       "</div>"
      ],
      "text/plain": [
       "            user_id            registration_time_2  \\\n",
       "count  10250.000000                          10250   \n",
       "mean   37775.738244  2018-07-02 23:24:55.788780288   \n",
       "min    27833.000000            2018-01-01 04:07:25   \n",
       "25%    32828.500000  2018-03-23 22:11:48.249999872   \n",
       "50%    37669.500000            2018-06-23 08:52:50   \n",
       "75%    42774.750000            2018-10-12 15:58:39   \n",
       "max    47756.000000            2018-12-31 23:17:30   \n",
       "std     5760.669397                            NaN   \n",
       "\n",
       "                    tut_start_time_2              tut_finish_time_2  \\\n",
       "count                          10250                          10250   \n",
       "mean   2018-07-03 03:56:00.726926848  2018-07-03 04:08:14.550048768   \n",
       "min              2018-01-01 14:54:40            2018-01-01 15:06:15   \n",
       "25%              2018-03-24 02:51:17  2018-03-24 02:54:59.750000128   \n",
       "50%       2018-06-23 09:59:01.500000            2018-06-23 10:33:52   \n",
       "75%    2018-10-12 19:57:50.750000128  2018-10-12 20:02:29.750000128   \n",
       "max              2019-01-01 03:26:18            2019-01-01 03:29:25   \n",
       "std                              NaN                            NaN   \n",
       "\n",
       "                  level_choce_time_2             pack_choice_time_2  \\\n",
       "count                           7501                           5176   \n",
       "mean   2018-07-04 04:02:24.671243776  2018-07-04 18:49:00.088098816   \n",
       "min              2018-01-01 20:37:22            2018-01-01 20:38:43   \n",
       "25%              2018-03-24 13:47:36     2018-03-25 02:24:08.500000   \n",
       "50%              2018-06-23 20:18:59     2018-06-25 20:19:02.500000   \n",
       "75%              2018-10-14 04:29:37            2018-10-15 17:27:23   \n",
       "max              2019-01-01 05:42:11            2019-01-01 05:50:36   \n",
       "std                              NaN                            NaN   \n",
       "\n",
       "                      purc_time_2  td_tut_start  td_tut_finish  \\\n",
       "count                        1447  10250.000000   10250.000000   \n",
       "mean   2018-07-05 19:13:35.193504      4.518038       0.203840   \n",
       "min           2018-01-03 18:53:43      0.009444       0.004444   \n",
       "25%           2018-03-27 14:29:37      1.298750       0.041944   \n",
       "50%           2018-06-25 22:56:25      3.230000       0.063611   \n",
       "75%    2018-10-19 18:35:42.500000      6.624375       0.088611   \n",
       "max           2019-01-06 07:14:25     40.062778      18.908056   \n",
       "std                           NaN      4.190230       1.024448   \n",
       "\n",
       "       td_level_choice  td_pack_choice  td_purchase    td_allway  \n",
       "count      7501.000000     5176.000000  1447.000000  1447.000000  \n",
       "mean          2.329711        0.088374    89.299900    96.500902  \n",
       "min           0.016111        0.005278     0.747222     4.616111  \n",
       "25%           1.150556        0.051389    45.268194    52.165278  \n",
       "50%           2.239444        0.082778    84.265556    91.083056  \n",
       "75%           3.408889        0.119722   128.895694   135.770556  \n",
       "max           6.612500        0.263333   258.566389   264.584444  \n",
       "std           1.417378        0.045680    52.533279    52.791652  "
      ]
     },
     "metadata": {},
     "output_type": "display_data"
    },
    {
     "data": {
      "text/html": [
       "<div>\n",
       "<style scoped>\n",
       "    .dataframe tbody tr th:only-of-type {\n",
       "        vertical-align: middle;\n",
       "    }\n",
       "\n",
       "    .dataframe tbody tr th {\n",
       "        vertical-align: top;\n",
       "    }\n",
       "\n",
       "    .dataframe thead th {\n",
       "        text-align: right;\n",
       "    }\n",
       "</style>\n",
       "<table border=\"1\" class=\"dataframe\">\n",
       "  <thead>\n",
       "    <tr style=\"text-align: right;\">\n",
       "      <th></th>\n",
       "      <th>user_id</th>\n",
       "      <th>registration_time_1</th>\n",
       "      <th>level_choice_time</th>\n",
       "      <th>pack_choice_time</th>\n",
       "      <th>purc_time</th>\n",
       "      <th>td_level_choice</th>\n",
       "      <th>td_pack_choice</th>\n",
       "      <th>td_purchase</th>\n",
       "      <th>td_allway</th>\n",
       "    </tr>\n",
       "  </thead>\n",
       "  <tbody>\n",
       "    <tr>\n",
       "      <th>count</th>\n",
       "      <td>8068.000000</td>\n",
       "      <td>8068</td>\n",
       "      <td>98</td>\n",
       "      <td>74</td>\n",
       "      <td>22</td>\n",
       "      <td>98.000000</td>\n",
       "      <td>74.000000</td>\n",
       "      <td>22.000000</td>\n",
       "      <td>22.000000</td>\n",
       "    </tr>\n",
       "    <tr>\n",
       "      <th>mean</th>\n",
       "      <td>37837.681210</td>\n",
       "      <td>2018-07-04 10:54:54.943852288</td>\n",
       "      <td>2018-06-28 04:20:03.397959168</td>\n",
       "      <td>2018-07-05 16:05:05.797297152</td>\n",
       "      <td>2018-07-23 03:43:36.272727296</td>\n",
       "      <td>5.259201</td>\n",
       "      <td>0.089951</td>\n",
       "      <td>100.825997</td>\n",
       "      <td>105.100530</td>\n",
       "    </tr>\n",
       "    <tr>\n",
       "      <th>min</th>\n",
       "      <td>27832.000000</td>\n",
       "      <td>2018-01-01 03:48:40</td>\n",
       "      <td>2018-01-06 01:58:40</td>\n",
       "      <td>2018-01-08 17:11:52</td>\n",
       "      <td>2018-01-16 05:08:41</td>\n",
       "      <td>0.157222</td>\n",
       "      <td>0.013333</td>\n",
       "      <td>9.596667</td>\n",
       "      <td>9.985278</td>\n",
       "    </tr>\n",
       "    <tr>\n",
       "      <th>25%</th>\n",
       "      <td>32743.500000</td>\n",
       "      <td>2018-03-22 21:12:01.500000</td>\n",
       "      <td>2018-03-27 06:32:03.249999872</td>\n",
       "      <td>2018-03-28 12:17:05</td>\n",
       "      <td>2018-04-20 10:31:42.249999872</td>\n",
       "      <td>2.257917</td>\n",
       "      <td>0.052708</td>\n",
       "      <td>63.822778</td>\n",
       "      <td>69.525278</td>\n",
       "    </tr>\n",
       "    <tr>\n",
       "      <th>50%</th>\n",
       "      <td>37952.500000</td>\n",
       "      <td>2018-06-27 13:52:22</td>\n",
       "      <td>2018-06-04 13:36:56</td>\n",
       "      <td>2018-06-23 20:41:03</td>\n",
       "      <td>2018-07-01 11:03:01</td>\n",
       "      <td>4.934861</td>\n",
       "      <td>0.079583</td>\n",
       "      <td>100.645000</td>\n",
       "      <td>107.485833</td>\n",
       "    </tr>\n",
       "    <tr>\n",
       "      <th>75%</th>\n",
       "      <td>42854.250000</td>\n",
       "      <td>2018-10-13 21:54:31.500000</td>\n",
       "      <td>2018-10-16 10:55:37.249999872</td>\n",
       "      <td>2018-10-19 06:53:57.500000</td>\n",
       "      <td>2018-11-15 10:47:40.249999872</td>\n",
       "      <td>8.400278</td>\n",
       "      <td>0.119792</td>\n",
       "      <td>143.582153</td>\n",
       "      <td>146.479931</td>\n",
       "    </tr>\n",
       "    <tr>\n",
       "      <th>max</th>\n",
       "      <td>47757.000000</td>\n",
       "      <td>2018-12-31 23:18:06</td>\n",
       "      <td>2018-12-22 17:51:42</td>\n",
       "      <td>2018-12-22 17:59:25</td>\n",
       "      <td>2018-12-18 18:07:09</td>\n",
       "      <td>18.572500</td>\n",
       "      <td>0.225556</td>\n",
       "      <td>179.946944</td>\n",
       "      <td>184.772222</td>\n",
       "    </tr>\n",
       "    <tr>\n",
       "      <th>std</th>\n",
       "      <td>5752.926151</td>\n",
       "      <td>NaN</td>\n",
       "      <td>NaN</td>\n",
       "      <td>NaN</td>\n",
       "      <td>NaN</td>\n",
       "      <td>3.683499</td>\n",
       "      <td>0.050342</td>\n",
       "      <td>52.977945</td>\n",
       "      <td>53.204652</td>\n",
       "    </tr>\n",
       "  </tbody>\n",
       "</table>\n",
       "</div>"
      ],
      "text/plain": [
       "            user_id            registration_time_1  \\\n",
       "count   8068.000000                           8068   \n",
       "mean   37837.681210  2018-07-04 10:54:54.943852288   \n",
       "min    27832.000000            2018-01-01 03:48:40   \n",
       "25%    32743.500000     2018-03-22 21:12:01.500000   \n",
       "50%    37952.500000            2018-06-27 13:52:22   \n",
       "75%    42854.250000     2018-10-13 21:54:31.500000   \n",
       "max    47757.000000            2018-12-31 23:18:06   \n",
       "std     5752.926151                            NaN   \n",
       "\n",
       "                   level_choice_time               pack_choice_time  \\\n",
       "count                             98                             74   \n",
       "mean   2018-06-28 04:20:03.397959168  2018-07-05 16:05:05.797297152   \n",
       "min              2018-01-06 01:58:40            2018-01-08 17:11:52   \n",
       "25%    2018-03-27 06:32:03.249999872            2018-03-28 12:17:05   \n",
       "50%              2018-06-04 13:36:56            2018-06-23 20:41:03   \n",
       "75%    2018-10-16 10:55:37.249999872     2018-10-19 06:53:57.500000   \n",
       "max              2018-12-22 17:51:42            2018-12-22 17:59:25   \n",
       "std                              NaN                            NaN   \n",
       "\n",
       "                           purc_time  td_level_choice  td_pack_choice  \\\n",
       "count                             22        98.000000       74.000000   \n",
       "mean   2018-07-23 03:43:36.272727296         5.259201        0.089951   \n",
       "min              2018-01-16 05:08:41         0.157222        0.013333   \n",
       "25%    2018-04-20 10:31:42.249999872         2.257917        0.052708   \n",
       "50%              2018-07-01 11:03:01         4.934861        0.079583   \n",
       "75%    2018-11-15 10:47:40.249999872         8.400278        0.119792   \n",
       "max              2018-12-18 18:07:09        18.572500        0.225556   \n",
       "std                              NaN         3.683499        0.050342   \n",
       "\n",
       "       td_purchase   td_allway  \n",
       "count    22.000000   22.000000  \n",
       "mean    100.825997  105.100530  \n",
       "min       9.596667    9.985278  \n",
       "25%      63.822778   69.525278  \n",
       "50%     100.645000  107.485833  \n",
       "75%     143.582153  146.479931  \n",
       "max     179.946944  184.772222  \n",
       "std      52.977945   53.204652  "
      ]
     },
     "execution_count": 51,
     "metadata": {},
     "output_type": "execute_result"
    }
   ],
   "source": [
    "display(merged_group_two_df.describe())\n",
    "merged_group_one_df.describe()"
   ]
  },
  {
   "cell_type": "code",
   "execution_count": 52,
   "metadata": {
    "id": "qfKgKhZF4EP1",
    "outputId": "63e71363-b03c-449f-a872-71c4a28e34c8"
   },
   "outputs": [
    {
     "data": {
      "text/html": [
       "<div>\n",
       "<style scoped>\n",
       "    .dataframe tbody tr th:only-of-type {\n",
       "        vertical-align: middle;\n",
       "    }\n",
       "\n",
       "    .dataframe tbody tr th {\n",
       "        vertical-align: top;\n",
       "    }\n",
       "\n",
       "    .dataframe thead th {\n",
       "        text-align: right;\n",
       "    }\n",
       "</style>\n",
       "<table border=\"1\" class=\"dataframe\">\n",
       "  <thead>\n",
       "    <tr style=\"text-align: right;\">\n",
       "      <th></th>\n",
       "      <th>user_id</th>\n",
       "      <th>group_type</th>\n",
       "      <th>td_tut_start</th>\n",
       "      <th>td_tut_finish</th>\n",
       "      <th>td_level_choice</th>\n",
       "      <th>td_pack_choice</th>\n",
       "      <th>td_purchase</th>\n",
       "      <th>td_allway</th>\n",
       "    </tr>\n",
       "  </thead>\n",
       "  <tbody>\n",
       "    <tr>\n",
       "      <th>0</th>\n",
       "      <td>27833</td>\n",
       "      <td>with_tutorial</td>\n",
       "      <td>13.670833</td>\n",
       "      <td>0.041111</td>\n",
       "      <td>NaN</td>\n",
       "      <td>NaN</td>\n",
       "      <td>NaN</td>\n",
       "      <td>NaN</td>\n",
       "    </tr>\n",
       "    <tr>\n",
       "      <th>1</th>\n",
       "      <td>27834</td>\n",
       "      <td>with_tutorial</td>\n",
       "      <td>11.183611</td>\n",
       "      <td>0.030556</td>\n",
       "      <td>NaN</td>\n",
       "      <td>NaN</td>\n",
       "      <td>NaN</td>\n",
       "      <td>NaN</td>\n",
       "    </tr>\n",
       "    <tr>\n",
       "      <th>2</th>\n",
       "      <td>27835</td>\n",
       "      <td>with_tutorial</td>\n",
       "      <td>3.101111</td>\n",
       "      <td>0.090000</td>\n",
       "      <td>5.518611</td>\n",
       "      <td>0.022500</td>\n",
       "      <td>NaN</td>\n",
       "      <td>NaN</td>\n",
       "    </tr>\n",
       "    <tr>\n",
       "      <th>3</th>\n",
       "      <td>27836</td>\n",
       "      <td>with_tutorial</td>\n",
       "      <td>1.442500</td>\n",
       "      <td>0.805000</td>\n",
       "      <td>NaN</td>\n",
       "      <td>NaN</td>\n",
       "      <td>NaN</td>\n",
       "      <td>NaN</td>\n",
       "    </tr>\n",
       "    <tr>\n",
       "      <th>4</th>\n",
       "      <td>27839</td>\n",
       "      <td>with_tutorial</td>\n",
       "      <td>0.793056</td>\n",
       "      <td>0.082222</td>\n",
       "      <td>3.355000</td>\n",
       "      <td>0.084444</td>\n",
       "      <td>NaN</td>\n",
       "      <td>NaN</td>\n",
       "    </tr>\n",
       "  </tbody>\n",
       "</table>\n",
       "</div>"
      ],
      "text/plain": [
       "   user_id     group_type  td_tut_start  td_tut_finish  td_level_choice  \\\n",
       "0    27833  with_tutorial     13.670833       0.041111              NaN   \n",
       "1    27834  with_tutorial     11.183611       0.030556              NaN   \n",
       "2    27835  with_tutorial      3.101111       0.090000         5.518611   \n",
       "3    27836  with_tutorial      1.442500       0.805000              NaN   \n",
       "4    27839  with_tutorial      0.793056       0.082222         3.355000   \n",
       "\n",
       "   td_pack_choice  td_purchase  td_allway  \n",
       "0             NaN          NaN        NaN  \n",
       "1             NaN          NaN        NaN  \n",
       "2        0.022500          NaN        NaN  \n",
       "3             NaN          NaN        NaN  \n",
       "4        0.084444          NaN        NaN  "
      ]
     },
     "execution_count": 52,
     "metadata": {},
     "output_type": "execute_result"
    }
   ],
   "source": [
    "# объединяем DF с пользователями без обучения и прошедших обучение\n",
    "merged_all_df = pd.concat(\n",
    "    [merged_group_two_df, merged_group_one_df], sort=False, axis=0)  \n",
    "\n",
    "# выводим нужные нам столбцы\n",
    "merged_all_df = merged_all_df[\n",
    "    ['user_id', 'group_type', 'td_tut_start', 'td_tut_finish', 'td_level_choice', 'td_pack_choice', 'td_purchase', 'td_allway']\n",
    "    ] \n",
    "\n",
    "merged_all_df.head()"
   ]
  },
  {
   "cell_type": "code",
   "execution_count": 53,
   "metadata": {
    "id": "VyyUENHR4EP2",
    "outputId": "5daae7d7-e3a9-4cbb-f30b-cbbc1f6fbddc"
   },
   "outputs": [
    {
     "data": {
      "text/html": [
       "<div>\n",
       "<style scoped>\n",
       "    .dataframe tbody tr th:only-of-type {\n",
       "        vertical-align: middle;\n",
       "    }\n",
       "\n",
       "    .dataframe tbody tr th {\n",
       "        vertical-align: top;\n",
       "    }\n",
       "\n",
       "    .dataframe thead th {\n",
       "        text-align: right;\n",
       "    }\n",
       "</style>\n",
       "<table border=\"1\" class=\"dataframe\">\n",
       "  <thead>\n",
       "    <tr style=\"text-align: right;\">\n",
       "      <th></th>\n",
       "      <th>group_type</th>\n",
       "      <th>td_tut_start</th>\n",
       "      <th>td_tut_finish</th>\n",
       "      <th>td_level_choice</th>\n",
       "      <th>td_pack_choice</th>\n",
       "      <th>td_purchase</th>\n",
       "      <th>td_allway</th>\n",
       "    </tr>\n",
       "  </thead>\n",
       "  <tbody>\n",
       "    <tr>\n",
       "      <th>0</th>\n",
       "      <td>with_tutorial</td>\n",
       "      <td>3.2</td>\n",
       "      <td>0.1</td>\n",
       "      <td>2.2</td>\n",
       "      <td>0.1</td>\n",
       "      <td>84.3</td>\n",
       "      <td>91.1</td>\n",
       "    </tr>\n",
       "    <tr>\n",
       "      <th>1</th>\n",
       "      <td>without_tutorial</td>\n",
       "      <td>NaN</td>\n",
       "      <td>NaN</td>\n",
       "      <td>4.9</td>\n",
       "      <td>0.1</td>\n",
       "      <td>100.6</td>\n",
       "      <td>107.5</td>\n",
       "    </tr>\n",
       "  </tbody>\n",
       "</table>\n",
       "</div>"
      ],
      "text/plain": [
       "         group_type  td_tut_start  td_tut_finish  td_level_choice  \\\n",
       "0     with_tutorial           3.2            0.1              2.2   \n",
       "1  without_tutorial           NaN            NaN              4.9   \n",
       "\n",
       "   td_pack_choice  td_purchase  td_allway  \n",
       "0             0.1         84.3       91.1  \n",
       "1             0.1        100.6      107.5  "
      ]
     },
     "metadata": {},
     "output_type": "display_data"
    }
   ],
   "source": [
    "# Группируем данные по признаку 'group_type' и выводим медианное значение\n",
    "group_pivot_df = merged_all_df.groupby('group_type', as_index=False)[[\n",
    "    'td_tut_start', 'td_tut_finish', 'td_level_choice', 'td_pack_choice', 'td_purchase', 'td_allway']].median()\n",
    "\n",
    "display(round(group_pivot_df, 1))"
   ]
  },
  {
   "cell_type": "code",
   "execution_count": 54,
   "metadata": {
    "id": "-1wnGNKW4EP2"
   },
   "outputs": [],
   "source": [
    "import matplotlib.pyplot as plt # импортируем модуль pyplot\n",
    "import seaborn as sns # импортируем надстроку seaborn"
   ]
  },
  {
   "cell_type": "code",
   "execution_count": 55,
   "metadata": {
    "id": "S1_yqWCe4EP2",
    "outputId": "06c8ed4a-3f2b-4479-ead7-f1e6370e4c30"
   },
   "outputs": [
    {
     "data": {
      "image/png": "[encoded data removed]",
      "text/plain": [
       "<Figure size 2000x1200 with 6 Axes>"
      ]
     },
     "metadata": {},
     "output_type": "display_data"
    }
   ],
   "source": [
    "fig, axes = plt.subplots( nrows=2, ncols=3, figsize=(20, 12))\n",
    "# выводим длительность времени затраченного пользователем от регистрации до старта обучения\n",
    "sns.barplot(\n",
    "    data=group_pivot_df,\n",
    "    y='td_tut_start',\n",
    "    x='group_type',\n",
    "    ax=axes[0, 0]   \n",
    "); \n",
    "axes[0, 0].set_title('Время между регистрацией и стартом обучения', fontsize=12);\n",
    "axes[0, 0].set_ylabel('Время, ч.');\n",
    "axes[0, 0].set_xlabel('Тип группы пользователей');\n",
    "\n",
    "# выводим длительность времени затраченного пользователем на обучение\n",
    "sns.barplot(\n",
    "    data=group_pivot_df,\n",
    "    y='td_tut_finish',\n",
    "    x='group_type',\n",
    "    ax=axes[0, 1]\n",
    "); \n",
    "axes[0, 1].set_title('Время между окончанием и стартом обучения', fontsize=12);\n",
    "axes[0, 1].set_ylabel('Время, ч.');\n",
    "axes[0, 1].set_xlabel('Тип группы пользователей')\n",
    "\n",
    "# выводим длительность времени затраченного пользователем после завершения обучения до выбора уровня сложности\n",
    "sns.barplot(\n",
    "    data=group_pivot_df,\n",
    "    y='td_level_choice',\n",
    "    x='group_type',\n",
    "    ax=axes[0, 2]\n",
    ");\n",
    "axes[0, 2].set_title('Время, затрачиваемое на выбор уровня', fontsize=12);\n",
    "axes[0, 2].set_ylabel('Время, ч.');\n",
    "\n",
    "# выводим длительность времени затраченного пользователем на выбор пакета с вопросами\n",
    "sns.barplot(\n",
    "    data=group_pivot_df,\n",
    "    y=group_pivot_df.td_pack_choice,\n",
    "    x='group_type',\n",
    "    ax=axes[1, 0]\n",
    "); \n",
    "axes[1, 0].set_title('Время, затрачиваемое на выбор пакета вопросов', fontsize=12);\n",
    "axes[1, 0].set_ylabel('Время, ч.');\n",
    "axes[1, 0].set_xlabel('Тип группы пользователей')\n",
    "\n",
    "# выводим длительность времени затраченного пользователем на приобретение платного пакета с вопросами\n",
    "sns.barplot(\n",
    "    data=group_pivot_df,\n",
    "    y=group_pivot_df.td_purchase,\n",
    "    x='group_type',\n",
    "    ax=axes[1, 1]\n",
    ");\n",
    "axes[1, 1].set_title('Время, затрачиваемое на покупку платных вопров', fontsize=12);\n",
    "axes[1, 1].set_ylabel('Время, ч.');\n",
    "axes[1, 1].set_xlabel('Тип группы пользователей')\n",
    "\n",
    "# выводим длительность прохождения всех этапов игры от регистрации пользователя до приобретения платного пакета вопросов\n",
    "sns.barplot(\n",
    "    data=group_pivot_df,\n",
    "    y=group_pivot_df.td_allway,\n",
    "    x='group_type',\n",
    "    ax=axes[1, 2]\n",
    ");\n",
    "axes[1, 2].set_title('Время на весь путь пользователя\\n от регистрациии до покупки вопросов', fontsize=12);\n",
    "axes[1, 2].set_ylabel('Время, ч.');\n",
    "axes[1, 2].set_xlabel('Тип группы пользователей');"
   ]
  },
  {
   "cell_type": "markdown",
   "metadata": {
    "id": "Ylr-gapO4EP3"
   },
   "source": [
    "ВЫВОД ПО ГИПОТЕЗЕ №1:"
   ]
  },
  {
   "cell_type": "markdown",
   "metadata": {
    "id": "sAhLVGM_4EP3"
   },
   "source": [
    "\n",
    "Пользователи, которые хотя бы раз проши обучение, проходят основные этапы игры быстрее. \n",
    "Путь от регистрации до покупки у пользователей прошедших обучение занимает 91 час. Пользователи отказавшиеся от обучения проходят все этапы игры за 107 часов.\n",
    "Наибольшее разницу во времени у групп наблюдается на этапах выбора уровня сложности и покупки платных вопросов - 2,7 и 16,3 часа соответсвенно.\n",
    "При этом конверсия пользователей прошедших обучение значительно превосходит конверсию пользователей отказавшихся от обучения.\n"
   ]
  },
  {
   "cell_type": "markdown",
   "metadata": {
    "id": "hdBvt_FN4EP3"
   },
   "source": [
    "ЗАДАЧА 2.Доказать, что успешное обучение само по себе влияет на оплату и не имеет значения то, каким этапом оно шло."
   ]
  },
  {
   "cell_type": "code",
   "execution_count": 56,
   "metadata": {
    "id": "RKAXzEfo4EP3",
    "outputId": "e3994d49-aaab-4dcb-8d62-700caf7810cd"
   },
   "outputs": [
    {
     "name": "stdout",
     "output_type": "stream",
     "text": [
      "1600\n"
     ]
    }
   ],
   "source": [
    "# создадим список пользователей совершивших покупку\n",
    "set_users_with_purchase = set(\n",
    "    total_event_df[total_event_df.event_type == 'purchase']['user_id'].unique()\n",
    ")\n",
    "print(len(set_users_with_purchase))"
   ]
  },
  {
   "cell_type": "code",
   "execution_count": 57,
   "metadata": {
    "id": "cxCQ9t6H4EP4",
    "outputId": "d24b63cb-e060-48f4-da11-070f5068cb1c"
   },
   "outputs": [
    {
     "data": {
      "text/html": [
       "<div>\n",
       "<style scoped>\n",
       "    .dataframe tbody tr th:only-of-type {\n",
       "        vertical-align: middle;\n",
       "    }\n",
       "\n",
       "    .dataframe tbody tr th {\n",
       "        vertical-align: top;\n",
       "    }\n",
       "\n",
       "    .dataframe thead th {\n",
       "        text-align: right;\n",
       "    }\n",
       "</style>\n",
       "<table border=\"1\" class=\"dataframe\">\n",
       "  <thead>\n",
       "    <tr style=\"text-align: right;\">\n",
       "      <th></th>\n",
       "      <th>user_id</th>\n",
       "      <th>tutorial_attempts</th>\n",
       "    </tr>\n",
       "  </thead>\n",
       "  <tbody>\n",
       "    <tr>\n",
       "      <th>0</th>\n",
       "      <td>27832</td>\n",
       "      <td>0</td>\n",
       "    </tr>\n",
       "    <tr>\n",
       "      <th>1</th>\n",
       "      <td>27833</td>\n",
       "      <td>1</td>\n",
       "    </tr>\n",
       "    <tr>\n",
       "      <th>2</th>\n",
       "      <td>27834</td>\n",
       "      <td>1</td>\n",
       "    </tr>\n",
       "    <tr>\n",
       "      <th>3</th>\n",
       "      <td>27835</td>\n",
       "      <td>1</td>\n",
       "    </tr>\n",
       "    <tr>\n",
       "      <th>4</th>\n",
       "      <td>27836</td>\n",
       "      <td>2</td>\n",
       "    </tr>\n",
       "  </tbody>\n",
       "</table>\n",
       "</div>"
      ],
      "text/plain": [
       "   user_id  tutorial_attempts\n",
       "0    27832                  0\n",
       "1    27833                  1\n",
       "2    27834                  1\n",
       "3    27835                  1\n",
       "4    27836                  2"
      ]
     },
     "execution_count": 57,
     "metadata": {},
     "output_type": "execute_result"
    }
   ],
   "source": [
    "# Создадим DF с количеством прохождений обучения пользователями \n",
    "tutorial_attempts_df = total_event_df.groupby('user_id')['tutorial_id'].nunique().reset_index()\n",
    "tutorial_attempts_df = tutorial_attempts_df.rename(columns={'tutorial_id':'tutorial_attempts'})\n",
    "tutorial_attempts_df.head()"
   ]
  },
  {
   "cell_type": "code",
   "execution_count": 58,
   "metadata": {
    "id": "jKk8xpau4EP4",
    "outputId": "fc760e9d-bfb3-49cf-8df7-659589b75932"
   },
   "outputs": [
    {
     "data": {
      "text/html": [
       "<div>\n",
       "<style scoped>\n",
       "    .dataframe tbody tr th:only-of-type {\n",
       "        vertical-align: middle;\n",
       "    }\n",
       "\n",
       "    .dataframe tbody tr th {\n",
       "        vertical-align: top;\n",
       "    }\n",
       "\n",
       "    .dataframe thead th {\n",
       "        text-align: right;\n",
       "    }\n",
       "</style>\n",
       "<table border=\"1\" class=\"dataframe\">\n",
       "  <thead>\n",
       "    <tr style=\"text-align: right;\">\n",
       "      <th></th>\n",
       "      <th>user_id</th>\n",
       "      <th>tutorial_attempts</th>\n",
       "      <th>purchase</th>\n",
       "    </tr>\n",
       "  </thead>\n",
       "  <tbody>\n",
       "    <tr>\n",
       "      <th>0</th>\n",
       "      <td>27832</td>\n",
       "      <td>0</td>\n",
       "      <td>0</td>\n",
       "    </tr>\n",
       "    <tr>\n",
       "      <th>1</th>\n",
       "      <td>27833</td>\n",
       "      <td>1</td>\n",
       "      <td>0</td>\n",
       "    </tr>\n",
       "    <tr>\n",
       "      <th>2</th>\n",
       "      <td>27834</td>\n",
       "      <td>1</td>\n",
       "      <td>0</td>\n",
       "    </tr>\n",
       "    <tr>\n",
       "      <th>3</th>\n",
       "      <td>27835</td>\n",
       "      <td>1</td>\n",
       "      <td>0</td>\n",
       "    </tr>\n",
       "    <tr>\n",
       "      <th>4</th>\n",
       "      <td>27836</td>\n",
       "      <td>2</td>\n",
       "      <td>0</td>\n",
       "    </tr>\n",
       "  </tbody>\n",
       "</table>\n",
       "</div>"
      ],
      "text/plain": [
       "   user_id  tutorial_attempts  purchase\n",
       "0    27832                  0         0\n",
       "1    27833                  1         0\n",
       "2    27834                  1         0\n",
       "3    27835                  1         0\n",
       "4    27836                  2         0"
      ]
     },
     "execution_count": 58,
     "metadata": {},
     "output_type": "execute_result"
    }
   ],
   "source": [
    "# добавим столбец purchase если пользователь купил платный пакет 1 и 0 если нет \n",
    "tutorial_attempts_df['purchase'] = tutorial_attempts_df.apply(\n",
    "    lambda x: 1 if x['user_id'] in set_users_with_purchase else 0, axis=1\n",
    ")\n",
    "tutorial_attempts_df.head()"
   ]
  },
  {
   "cell_type": "code",
   "execution_count": 59,
   "metadata": {
    "id": "qrQ1kzIU4EP4",
    "outputId": "6bb7c362-d5e7-4efc-d352-2d0c9c28b024"
   },
   "outputs": [
    {
     "data": {
      "text/html": [
       "<div>\n",
       "<style scoped>\n",
       "    .dataframe tbody tr th:only-of-type {\n",
       "        vertical-align: middle;\n",
       "    }\n",
       "\n",
       "    .dataframe tbody tr th {\n",
       "        vertical-align: top;\n",
       "    }\n",
       "\n",
       "    .dataframe thead th {\n",
       "        text-align: right;\n",
       "    }\n",
       "</style>\n",
       "<table border=\"1\" class=\"dataframe\">\n",
       "  <thead>\n",
       "    <tr style=\"text-align: right;\">\n",
       "      <th></th>\n",
       "      <th>tutorial_attempts</th>\n",
       "      <th>purchase</th>\n",
       "      <th>percent</th>\n",
       "    </tr>\n",
       "  </thead>\n",
       "  <tbody>\n",
       "    <tr>\n",
       "      <th>1</th>\n",
       "      <td>1</td>\n",
       "      <td>1207</td>\n",
       "      <td>75.44</td>\n",
       "    </tr>\n",
       "    <tr>\n",
       "      <th>2</th>\n",
       "      <td>2</td>\n",
       "      <td>218</td>\n",
       "      <td>13.63</td>\n",
       "    </tr>\n",
       "    <tr>\n",
       "      <th>3</th>\n",
       "      <td>3</td>\n",
       "      <td>51</td>\n",
       "      <td>3.19</td>\n",
       "    </tr>\n",
       "    <tr>\n",
       "      <th>4</th>\n",
       "      <td>4</td>\n",
       "      <td>30</td>\n",
       "      <td>1.88</td>\n",
       "    </tr>\n",
       "    <tr>\n",
       "      <th>0</th>\n",
       "      <td>0</td>\n",
       "      <td>22</td>\n",
       "      <td>1.38</td>\n",
       "    </tr>\n",
       "    <tr>\n",
       "      <th>9</th>\n",
       "      <td>9</td>\n",
       "      <td>17</td>\n",
       "      <td>1.06</td>\n",
       "    </tr>\n",
       "    <tr>\n",
       "      <th>5</th>\n",
       "      <td>5</td>\n",
       "      <td>16</td>\n",
       "      <td>1.00</td>\n",
       "    </tr>\n",
       "    <tr>\n",
       "      <th>6</th>\n",
       "      <td>6</td>\n",
       "      <td>14</td>\n",
       "      <td>0.88</td>\n",
       "    </tr>\n",
       "    <tr>\n",
       "      <th>8</th>\n",
       "      <td>8</td>\n",
       "      <td>13</td>\n",
       "      <td>0.81</td>\n",
       "    </tr>\n",
       "    <tr>\n",
       "      <th>7</th>\n",
       "      <td>7</td>\n",
       "      <td>12</td>\n",
       "      <td>0.75</td>\n",
       "    </tr>\n",
       "  </tbody>\n",
       "</table>\n",
       "</div>"
      ],
      "text/plain": [
       "   tutorial_attempts  purchase  percent\n",
       "1                  1      1207    75.44\n",
       "2                  2       218    13.63\n",
       "3                  3        51     3.19\n",
       "4                  4        30     1.88\n",
       "0                  0        22     1.38\n",
       "9                  9        17     1.06\n",
       "5                  5        16     1.00\n",
       "6                  6        14     0.88\n",
       "8                  8        13     0.81\n",
       "7                  7        12     0.75"
      ]
     },
     "execution_count": 59,
     "metadata": {},
     "output_type": "execute_result"
    }
   ],
   "source": [
    "# создаем дата DF, в котором сгрупирруем пользователей по количеству пройденных обучений\n",
    "count_tut_df = tutorial_attempts_df.groupby('tutorial_attempts')['purchase'].sum().reset_index()\n",
    "\n",
    "# Добавим колонку с указанием процента пользователей купивших платный пакет вопросов\n",
    "count_tut_df['percent'] = count_tut_df.apply(\n",
    "    lambda x: x['purchase'] / len(set_users_with_purchase) * 100, axis=1\n",
    ")\n",
    "round(count_tut_df.sort_values('percent', ascending=False), 2)\n"
   ]
  },
  {
   "cell_type": "markdown",
   "metadata": {
    "id": "WivD2hot4EP4"
   },
   "source": [
    "tutorial attempts - попытки обучение "
   ]
  },
  {
   "cell_type": "code",
   "execution_count": 60,
   "metadata": {
    "id": "ayWtuZJ34EP5",
    "outputId": "03f57e21-fbcf-4e17-c749-613d8fd1953f"
   },
   "outputs": [
    {
     "data": {
      "image/png": "[encoded data removed]",
      "text/plain": [
       "<Figure size 2000x600 with 1 Axes>"
      ]
     },
     "metadata": {},
     "output_type": "display_data"
    }
   ],
   "source": [
    "fig = plt.subplots(figsize=(20, 6))\n",
    "barplot = sns.barplot(\n",
    "    data=count_tut_df,\n",
    "    x='tutorial_attempts',\n",
    "    y='purchase'\n",
    ");\n",
    "barplot.set_title('Количество покупок совершенных пользователями', fontsize=12);\n",
    "barplot.set_ylabel('Количество');\n",
    "barplot.set_xlabel('Количество обучений');\n",
    "barplot.grid();\n"
   ]
  },
  {
   "cell_type": "code",
   "execution_count": 61,
   "metadata": {
    "id": "d0-oITUF4EP5",
    "outputId": "13ec93ef-1905-423e-ee70-993a85614214"
   },
   "outputs": [
    {
     "name": "stderr",
     "output_type": "stream",
     "text": [
      "C:\\Users\\achuk\\AppData\\Local\\Temp\\ipykernel_14932\\1566548113.py:2: FutureWarning: Setting an item of incompatible dtype is deprecated and will raise an error in a future version of pandas. Value '0 tutorial' has dtype incompatible with int64, please explicitly cast to a compatible dtype first.\n",
      "  count_tut_df.loc[count_tut_df['purchase'] == 22,'tutorial_attempts'] = '0 tutorial'\n"
     ]
    },
    {
     "data": {
      "text/html": [
       "<div>\n",
       "<style scoped>\n",
       "    .dataframe tbody tr th:only-of-type {\n",
       "        vertical-align: middle;\n",
       "    }\n",
       "\n",
       "    .dataframe tbody tr th {\n",
       "        vertical-align: top;\n",
       "    }\n",
       "\n",
       "    .dataframe thead th {\n",
       "        text-align: right;\n",
       "    }\n",
       "</style>\n",
       "<table border=\"1\" class=\"dataframe\">\n",
       "  <thead>\n",
       "    <tr style=\"text-align: right;\">\n",
       "      <th></th>\n",
       "      <th>tutorial_attempts</th>\n",
       "      <th>purchase</th>\n",
       "      <th>percent</th>\n",
       "    </tr>\n",
       "  </thead>\n",
       "  <tbody>\n",
       "    <tr>\n",
       "      <th>0</th>\n",
       "      <td>0 tutorial</td>\n",
       "      <td>22</td>\n",
       "      <td>1.3750</td>\n",
       "    </tr>\n",
       "    <tr>\n",
       "      <th>1</th>\n",
       "      <td>1  tutorial</td>\n",
       "      <td>1207</td>\n",
       "      <td>75.4375</td>\n",
       "    </tr>\n",
       "    <tr>\n",
       "      <th>2</th>\n",
       "      <td>2  tutorials</td>\n",
       "      <td>218</td>\n",
       "      <td>13.6250</td>\n",
       "    </tr>\n",
       "    <tr>\n",
       "      <th>3</th>\n",
       "      <td>3  tutorials</td>\n",
       "      <td>51</td>\n",
       "      <td>3.1875</td>\n",
       "    </tr>\n",
       "    <tr>\n",
       "      <th>4</th>\n",
       "      <td>4  tutorials</td>\n",
       "      <td>30</td>\n",
       "      <td>1.8750</td>\n",
       "    </tr>\n",
       "    <tr>\n",
       "      <th>5</th>\n",
       "      <td>from 5 to 9 tutorials</td>\n",
       "      <td>16</td>\n",
       "      <td>1.0000</td>\n",
       "    </tr>\n",
       "    <tr>\n",
       "      <th>6</th>\n",
       "      <td>from 5 to 9 tutorials</td>\n",
       "      <td>14</td>\n",
       "      <td>0.8750</td>\n",
       "    </tr>\n",
       "    <tr>\n",
       "      <th>7</th>\n",
       "      <td>from 5 to 9 tutorials</td>\n",
       "      <td>12</td>\n",
       "      <td>0.7500</td>\n",
       "    </tr>\n",
       "    <tr>\n",
       "      <th>8</th>\n",
       "      <td>from 5 to 9 tutorials</td>\n",
       "      <td>13</td>\n",
       "      <td>0.8125</td>\n",
       "    </tr>\n",
       "    <tr>\n",
       "      <th>9</th>\n",
       "      <td>from 5 to 9 tutorials</td>\n",
       "      <td>17</td>\n",
       "      <td>1.0625</td>\n",
       "    </tr>\n",
       "  </tbody>\n",
       "</table>\n",
       "</div>"
      ],
      "text/plain": [
       "       tutorial_attempts  purchase  percent\n",
       "0             0 tutorial        22   1.3750\n",
       "1            1  tutorial      1207  75.4375\n",
       "2           2  tutorials       218  13.6250\n",
       "3           3  tutorials        51   3.1875\n",
       "4           4  tutorials        30   1.8750\n",
       "5  from 5 to 9 tutorials        16   1.0000\n",
       "6  from 5 to 9 tutorials        14   0.8750\n",
       "7  from 5 to 9 tutorials        12   0.7500\n",
       "8  from 5 to 9 tutorials        13   0.8125\n",
       "9  from 5 to 9 tutorials        17   1.0625"
      ]
     },
     "execution_count": 61,
     "metadata": {},
     "output_type": "execute_result"
    }
   ],
   "source": [
    "# построения круговой диаграммы переименуем значения 'tutorial_attempts'\n",
    "count_tut_df.loc[count_tut_df['purchase'] == 22,'tutorial_attempts'] = '0 tutorial'\n",
    "count_tut_df.loc[count_tut_df['purchase'] == 1207,'tutorial_attempts'] = '1  tutorial'\n",
    "count_tut_df.loc[count_tut_df['purchase'] == 218,'tutorial_attempts'] = '2  tutorials'\n",
    "count_tut_df.loc[count_tut_df['purchase'] == 51,'tutorial_attempts'] = '3  tutorials'\n",
    "count_tut_df.loc[count_tut_df['purchase'] == 30,'tutorial_attempts'] = '4  tutorials'\n",
    "count_tut_df.loc[count_tut_df['purchase'] < 20,'tutorial_attempts'] = 'from 5 to 9 tutorials'\n",
    "count_tut_df"
   ]
  },
  {
   "cell_type": "code",
   "execution_count": 62,
   "metadata": {
    "id": "nmyW5M5w4EP5",
    "outputId": "8add5ec1-a66d-43e2-a2b1-1577c6eac92c"
   },
   "outputs": [
    {
     "data": {
      "text/html": [
       "<div>\n",
       "<style scoped>\n",
       "    .dataframe tbody tr th:only-of-type {\n",
       "        vertical-align: middle;\n",
       "    }\n",
       "\n",
       "    .dataframe tbody tr th {\n",
       "        vertical-align: top;\n",
       "    }\n",
       "\n",
       "    .dataframe thead th {\n",
       "        text-align: right;\n",
       "    }\n",
       "</style>\n",
       "<table border=\"1\" class=\"dataframe\">\n",
       "  <thead>\n",
       "    <tr style=\"text-align: right;\">\n",
       "      <th></th>\n",
       "      <th>tutorial_attempts</th>\n",
       "      <th>purchase</th>\n",
       "      <th>percent</th>\n",
       "    </tr>\n",
       "  </thead>\n",
       "  <tbody>\n",
       "    <tr>\n",
       "      <th>0</th>\n",
       "      <td>0 tutorial</td>\n",
       "      <td>22</td>\n",
       "      <td>1.3750</td>\n",
       "    </tr>\n",
       "    <tr>\n",
       "      <th>1</th>\n",
       "      <td>1  tutorial</td>\n",
       "      <td>1207</td>\n",
       "      <td>75.4375</td>\n",
       "    </tr>\n",
       "    <tr>\n",
       "      <th>2</th>\n",
       "      <td>2  tutorials</td>\n",
       "      <td>218</td>\n",
       "      <td>13.6250</td>\n",
       "    </tr>\n",
       "    <tr>\n",
       "      <th>3</th>\n",
       "      <td>3  tutorials</td>\n",
       "      <td>51</td>\n",
       "      <td>3.1875</td>\n",
       "    </tr>\n",
       "    <tr>\n",
       "      <th>4</th>\n",
       "      <td>4  tutorials</td>\n",
       "      <td>30</td>\n",
       "      <td>1.8750</td>\n",
       "    </tr>\n",
       "    <tr>\n",
       "      <th>5</th>\n",
       "      <td>from 5 to 9 tutorials</td>\n",
       "      <td>72</td>\n",
       "      <td>4.5000</td>\n",
       "    </tr>\n",
       "  </tbody>\n",
       "</table>\n",
       "</div>"
      ],
      "text/plain": [
       "       tutorial_attempts  purchase  percent\n",
       "0             0 tutorial        22   1.3750\n",
       "1            1  tutorial      1207  75.4375\n",
       "2           2  tutorials       218  13.6250\n",
       "3           3  tutorials        51   3.1875\n",
       "4           4  tutorials        30   1.8750\n",
       "5  from 5 to 9 tutorials        72   4.5000"
      ]
     },
     "execution_count": 62,
     "metadata": {},
     "output_type": "execute_result"
    }
   ],
   "source": [
    "# сгрупируем DF  по столбцу 'tutorial_attempts'\n",
    "count_tut_df = count_tut_df.groupby('tutorial_attempts')[['purchase', 'percent']].sum().reset_index()\n",
    "\n",
    "count_tut_df"
   ]
  },
  {
   "cell_type": "code",
   "execution_count": 63,
   "metadata": {
    "id": "XYJgHvde4EP5",
    "outputId": "ecace1fe-cecc-4b99-ce86-135b81efcfe5"
   },
   "outputs": [
    {
     "name": "stdout",
     "output_type": "stream",
     "text": [
      "Всего из 1600 пользователей соверших покупки в 2018 году 371 прошли повторное обучение. \n",
      "Что составляет 23.19% от общего количества пользователей купивших платные вопросы.\n"
     ]
    }
   ],
   "source": [
    "repeated_tutorial = count_tut_df[count_tut_df.index > 1]['purchase'].sum()\n",
    "repeated_tutorial_per = count_tut_df[count_tut_df.index > 1]['purchase'].sum() / count_tut_df['purchase'].sum()\n",
    "print('Всего из 1600 пользователей соверших покупки в 2018 году {} прошли повторное обучение. \\nЧто составляет {:.2%} от общего количества пользователей купивших платные вопросы.'.format(repeated_tutorial, repeated_tutorial_per))"
   ]
  },
  {
   "cell_type": "code",
   "execution_count": 64,
   "metadata": {
    "id": "hjqeksvP4EP6",
    "outputId": "7e252aa9-47df-4f37-ff58-0ca68f9dca71"
   },
   "outputs": [
    {
     "data": {
      "image/png": "[encoded data removed]",
      "text/plain": [
       "<Figure size 1000x1000 with 1 Axes>"
      ]
     },
     "metadata": {},
     "output_type": "display_data"
    }
   ],
   "source": [
    "# Построим круговую диаграмму покупок после прохождения обучения\n",
    "fig = plt.figure(figsize=(10, 10))\n",
    "plt.pie(\n",
    "    count_tut_df['purchase'], labels=count_tut_df['tutorial_attempts'], autopct='%.1f%%', explode = [0.05, 0, 0, 0, 0, 0]\n",
    ");"
   ]
  },
  {
   "cell_type": "markdown",
   "metadata": {
    "id": "emXdq0ix4EP6"
   },
   "source": [
    "ВЫВОД ПО ГИПОТЕЗЕ №2: "
   ]
  },
  {
   "cell_type": "markdown",
   "metadata": {
    "id": "MV4A7fpJ4EP6"
   },
   "source": [
    "Всего в 2018 году было купленно 1600 пакетов с платными вопросами. Каждый пользователь игры совершил покупку по 1 разу. 98,6% пользователей совершилили покупку после обучения. Повторное обучение положительно влияет на покупку платного пакета вопросов. 23.19% пользователей игры приобрели платные вовпросы после повторного обучения. "
   ]
  },
  {
   "cell_type": "markdown",
   "metadata": {
    "id": "pvn9-PdV4EP6"
   },
   "source": [
    "ЗАДАЧА 3. 3. Определить, насколько прозрачен процесс взаимодействия с игрой."
   ]
  },
  {
   "cell_type": "markdown",
   "metadata": {
    "id": "wS2YCkOv4EP6"
   },
   "source": [
    "Для проверки данной гипотезы мы определим количество пользователей вернувшихся на этап обучения после этапа выбора уровня сложности"
   ]
  },
  {
   "cell_type": "code",
   "execution_count": 65,
   "metadata": {
    "id": "2lWvIVe64EP7",
    "outputId": "ea5e3d9d-26e0-4041-d1f3-5a3b95f95510"
   },
   "outputs": [
    {
     "name": "stdout",
     "output_type": "stream",
     "text": [
      "В 2018 году событие 'level_choice' было совершено 8342 раз. \n",
      "Из них 8342 пользователей было уникальных. \n",
      "Таким образом каждый пользователь выбрал уровень сложности только 1 раз\n"
     ]
    }
   ],
   "source": [
    "# создадим DF с пользователями прошедших событие 'level_choice'\n",
    "level_choice_users_df = event_df[event_df.event_type == 'level_choice'][\n",
    "    ['user_id', 'start_time']] \n",
    "# Переименуем столбец с датой старта обучения в 'level_choice_time'\n",
    "level_choice_users_df = level_choice_users_df.rename(    \n",
    "    columns={'start_time': 'level_choice_time'}\n",
    ")   \n",
    "level_choice_users_count= level_choice_users_df.user_id.count() # выводим количество пользователей\n",
    "level_choice_users_nunique = level_choice_users_df.user_id.nunique()    # выводим количество уникальных пользователей\n",
    "print(\n",
    "\"\"\"В 2018 году событие 'level_choice' было совершено {} раз. \n",
    "Из них {} пользователей было уникальных. \n",
    "Таким образом каждый пользователь выбрал уровень сложности только 1 раз\"\"\".format(\n",
    "        level_choice_users_count,level_choice_users_nunique)\n",
    ")"
   ]
  },
  {
   "cell_type": "code",
   "execution_count": 66,
   "metadata": {
    "id": "T3VrBeVu4EP7"
   },
   "outputs": [],
   "source": [
    "# Создадим список пользователей прошедших этап выбора уровня\n",
    "set_level_choice_users = set(level_choice_users_df.user_id.unique())\n"
   ]
  },
  {
   "cell_type": "code",
   "execution_count": 67,
   "metadata": {
    "id": "kDjjIwo34EP7",
    "outputId": "842e7ab7-0e61-4a2e-bc6a-61c902bda7e3"
   },
   "outputs": [
    {
     "name": "stdout",
     "output_type": "stream",
     "text": [
      "Из 8342 пользователей, выбравших уровень сложности, 8244 прошло обучение.\n",
      "Всего обучений пройдено пользователями 12686 раз. Что говорит о том, что пользователи возвращались к обучению после выбора уровня сложности.\n"
     ]
    }
   ],
   "source": [
    "# создадим DF с пользователями начавшими прошeдших этам игры 'tutorial_start'\n",
    "tutorial_start_users_df = event_df[event_df.event_type == 'tutorial_start'][\n",
    "    ['user_id', 'start_time']].sort_values('start_time') \n",
    "# отбираем из DF 'tutorial_start_users_df' только тех пользователей, которыу выбрали уровень\n",
    "tutorial_start_users_df = tutorial_start_users_df[\n",
    "    tutorial_start_users_df.user_id.isin(set_level_choice_users)]\n",
    "# Переименуем столбец с датой старта обучения в 'tutorial_start_time'\n",
    "tutorial_start_users_df = tutorial_start_users_df.rename(\n",
    "    columns={'start_time':'tutorial_start_time'}) \n",
    "tutorial_start_users_count = tutorial_start_users_df.user_id.count()    # выводим количество пользователей\n",
    "tutorial_start_users_nunique = tutorial_start_users_df.user_id.nunique() # выводим количество уникальных пользователей\n",
    "print(\n",
    "\"\"\"Из {} пользователей, выбравших уровень сложности, {} прошло обучение.\n",
    "Всего обучений пройдено пользователями {} раз. Что говорит о том, что пользователи возвращались к обучению после выбора уровня сложности.\"\"\".format(\n",
    "    level_choice_users_count, tutorial_start_users_nunique, tutorial_start_users_count)\n",
    ")"
   ]
  },
  {
   "cell_type": "code",
   "execution_count": 68,
   "metadata": {
    "id": "Z91KtTg84EP7",
    "outputId": "7e10df52-8025-482d-80a2-6bcdc65bbfbc"
   },
   "outputs": [
    {
     "data": {
      "text/html": [
       "<div>\n",
       "<style scoped>\n",
       "    .dataframe tbody tr th:only-of-type {\n",
       "        vertical-align: middle;\n",
       "    }\n",
       "\n",
       "    .dataframe tbody tr th {\n",
       "        vertical-align: top;\n",
       "    }\n",
       "\n",
       "    .dataframe thead th {\n",
       "        text-align: right;\n",
       "    }\n",
       "</style>\n",
       "<table border=\"1\" class=\"dataframe\">\n",
       "  <thead>\n",
       "    <tr style=\"text-align: right;\">\n",
       "      <th></th>\n",
       "      <th>user_id</th>\n",
       "      <th>tutorial_start_time</th>\n",
       "      <th>level_choice_time</th>\n",
       "    </tr>\n",
       "  </thead>\n",
       "  <tbody>\n",
       "    <tr>\n",
       "      <th>0</th>\n",
       "      <td>27835</td>\n",
       "      <td>2018-01-01 15:00:51</td>\n",
       "      <td>2018-01-01 20:37:22</td>\n",
       "    </tr>\n",
       "    <tr>\n",
       "      <th>1</th>\n",
       "      <td>27839</td>\n",
       "      <td>2018-01-01 19:11:36</td>\n",
       "      <td>2018-01-01 22:37:50</td>\n",
       "    </tr>\n",
       "    <tr>\n",
       "      <th>2</th>\n",
       "      <td>27840</td>\n",
       "      <td>2018-01-02 02:07:07</td>\n",
       "      <td>2018-01-02 05:18:42</td>\n",
       "    </tr>\n",
       "    <tr>\n",
       "      <th>3</th>\n",
       "      <td>27845</td>\n",
       "      <td>2018-01-02 03:03:44</td>\n",
       "      <td>2018-01-02 06:19:18</td>\n",
       "    </tr>\n",
       "    <tr>\n",
       "      <th>4</th>\n",
       "      <td>27842</td>\n",
       "      <td>2018-01-02 04:55:11</td>\n",
       "      <td>2018-01-02 08:46:03</td>\n",
       "    </tr>\n",
       "  </tbody>\n",
       "</table>\n",
       "</div>"
      ],
      "text/plain": [
       "   user_id tutorial_start_time   level_choice_time\n",
       "0    27835 2018-01-01 15:00:51 2018-01-01 20:37:22\n",
       "1    27839 2018-01-01 19:11:36 2018-01-01 22:37:50\n",
       "2    27840 2018-01-02 02:07:07 2018-01-02 05:18:42\n",
       "3    27845 2018-01-02 03:03:44 2018-01-02 06:19:18\n",
       "4    27842 2018-01-02 04:55:11 2018-01-02 08:46:03"
      ]
     },
     "execution_count": 68,
     "metadata": {},
     "output_type": "execute_result"
    }
   ],
   "source": [
    "# Объединим DF 'tutorial_start_users_df' и 'level_choice_users_df' по признаку 'user_id'\n",
    "merged_users = tutorial_start_users_df.merge(\n",
    "    level_choice_users_df,\n",
    "    on='user_id',\n",
    "    how='left'\n",
    ")\n",
    "merged_users.head()"
   ]
  },
  {
   "cell_type": "code",
   "execution_count": 69,
   "metadata": {
    "id": "4htXRRyt4EP8",
    "outputId": "22d36db0-89bd-4b12-b1ac-5fa4d79e85dc"
   },
   "outputs": [
    {
     "data": {
      "text/html": [
       "<div>\n",
       "<style scoped>\n",
       "    .dataframe tbody tr th:only-of-type {\n",
       "        vertical-align: middle;\n",
       "    }\n",
       "\n",
       "    .dataframe tbody tr th {\n",
       "        vertical-align: top;\n",
       "    }\n",
       "\n",
       "    .dataframe thead th {\n",
       "        text-align: right;\n",
       "    }\n",
       "</style>\n",
       "<table border=\"1\" class=\"dataframe\">\n",
       "  <thead>\n",
       "    <tr style=\"text-align: right;\">\n",
       "      <th></th>\n",
       "      <th>user_id</th>\n",
       "      <th>tutorial_start_time</th>\n",
       "      <th>level_choice_time</th>\n",
       "      <th>timedelta</th>\n",
       "      <th>re_education</th>\n",
       "    </tr>\n",
       "  </thead>\n",
       "  <tbody>\n",
       "    <tr>\n",
       "      <th>0</th>\n",
       "      <td>27835</td>\n",
       "      <td>2018-01-01 15:00:51</td>\n",
       "      <td>2018-01-01 20:37:22</td>\n",
       "      <td>5.608611</td>\n",
       "      <td>0</td>\n",
       "    </tr>\n",
       "    <tr>\n",
       "      <th>1</th>\n",
       "      <td>27839</td>\n",
       "      <td>2018-01-01 19:11:36</td>\n",
       "      <td>2018-01-01 22:37:50</td>\n",
       "      <td>3.437222</td>\n",
       "      <td>0</td>\n",
       "    </tr>\n",
       "    <tr>\n",
       "      <th>2</th>\n",
       "      <td>27840</td>\n",
       "      <td>2018-01-02 02:07:07</td>\n",
       "      <td>2018-01-02 05:18:42</td>\n",
       "      <td>3.193056</td>\n",
       "      <td>0</td>\n",
       "    </tr>\n",
       "    <tr>\n",
       "      <th>3</th>\n",
       "      <td>27845</td>\n",
       "      <td>2018-01-02 03:03:44</td>\n",
       "      <td>2018-01-02 06:19:18</td>\n",
       "      <td>3.259444</td>\n",
       "      <td>0</td>\n",
       "    </tr>\n",
       "    <tr>\n",
       "      <th>4</th>\n",
       "      <td>27842</td>\n",
       "      <td>2018-01-02 04:55:11</td>\n",
       "      <td>2018-01-02 08:46:03</td>\n",
       "      <td>3.847778</td>\n",
       "      <td>0</td>\n",
       "    </tr>\n",
       "  </tbody>\n",
       "</table>\n",
       "</div>"
      ],
      "text/plain": [
       "   user_id tutorial_start_time   level_choice_time  timedelta  re_education\n",
       "0    27835 2018-01-01 15:00:51 2018-01-01 20:37:22   5.608611             0\n",
       "1    27839 2018-01-01 19:11:36 2018-01-01 22:37:50   3.437222             0\n",
       "2    27840 2018-01-02 02:07:07 2018-01-02 05:18:42   3.193056             0\n",
       "3    27845 2018-01-02 03:03:44 2018-01-02 06:19:18   3.259444             0\n",
       "4    27842 2018-01-02 04:55:11 2018-01-02 08:46:03   3.847778             0"
      ]
     },
     "execution_count": 69,
     "metadata": {},
     "output_type": "execute_result"
    }
   ],
   "source": [
    "# добавим в объединенный DF 'merged_users' столбец 'timedelta'\n",
    "# в добавленном столбце выведем разницу между временем выбора уровня сложности и стартом обучения\n",
    "# значения NaT заменим на 0\n",
    "merged_users['timedelta'] = (\n",
    "    ( merged_users.level_choice_time - merged_users.tutorial_start_time)/pd.Timedelta('1hour')\n",
    ").fillna(0) \n",
    "# добавим в объединенный DF 'merged_users' столбец 're_education'\n",
    "# вслучае если значение 'timedelta' положительное добавим в столбец 're_education' 0\n",
    "# вслучае если значение 'timedelta' отрицательное добавим в столбец 're_education' 1 - это значит пользователь возвращался к обучению\n",
    "merged_users['re_education'] = merged_users.apply(\n",
    "    lambda x: 1 if x['timedelta'] < 0 else 0, axis=1\n",
    ")\n",
    "\n",
    "merged_users.head()"
   ]
  },
  {
   "cell_type": "code",
   "execution_count": 70,
   "metadata": {
    "id": "4fgcxQ0k4EP8",
    "outputId": "139a4734-6893-4902-bded-db759496469d"
   },
   "outputs": [
    {
     "name": "stdout",
     "output_type": "stream",
     "text": [
      "Для оценки мы пренебребрежем пользователями, которые не проходили обучение вообще, а перешли сразу к выбору уровня сложности. \n",
      "Таких пользователей 98 человек, что составляет чуть более 1% от всех рассматриваемого количества пользователей.\n",
      "Из 8244 пользователей, выбраших уровень сложности, 1386 вернулось повторно к обучению.\n",
      "Что составляет 16.81% от от общего числа пользоватлей, прошедших этап выбора уровня сложности \n"
     ]
    }
   ],
   "source": [
    "# выведем пользователей, которые возвращались к обучению после выбора уровня сложности \n",
    "users_who_had_re_education = merged_users[merged_users.re_education == 1]['user_id'].nunique()\n",
    "# выведем процент пользователей, которые возвращались к обучению после выбора уровня сложности \n",
    "percent_users_who_had_re_education = users_who_had_re_education / tutorial_start_users_nunique\n",
    "print(\n",
    "\"\"\"Для оценки мы пренебребрежем пользователями, которые не проходили обучение вообще, а перешли сразу к выбору уровня сложности. \n",
    "Таких пользователей 98 человек, что составляет чуть более 1% от всех рассматриваемого количества пользователей.\n",
    "Из {} пользователей, выбраших уровень сложности, {} вернулось повторно к обучению.\n",
    "Что составляет {:.2%} от от общего числа пользоватлей, прошедших этап выбора уровня сложности \"\"\".format(\n",
    "    tutorial_start_users_nunique, users_who_had_re_education, percent_users_who_had_re_education\n",
    ")\n",
    ")"
   ]
  },
  {
   "cell_type": "markdown",
   "metadata": {
    "id": "bfN50clV4EP8"
   },
   "source": [
    "ВЫВОД ПО ЗАДАЧЕ №3"
   ]
  },
  {
   "cell_type": "markdown",
   "metadata": {
    "id": "ZGacmHph4EP8"
   },
   "source": [
    "Всего в 2018 году 8342 пользователей прошли этап выбора уровня сложности. 98 человек не стали проходить обучение. 8244 перед этапом 'level_choice' прошли обучение. Группа прошедшая обучению и подлежит анализу. Из 8244 пользователей 1386 вернулось повторно к обучению. Что составляет 16.81% от от общего числа пользоватлей. Не смотря на то, что большинство пользователей не возвращаются к повторному обучению, процент пользователей вернувшихся достаточно высок. Необходима дополнительная проработка этапа обучения"
   ]
  },
  {
   "cell_type": "markdown",
   "metadata": {
    "id": "a_Wp8DJ44EP8"
   },
   "source": [
    "ОБЩИЕ ВЫВОДЫ ПО ПРОЕКТУ:"
   ]
  },
  {
   "cell_type": "markdown",
   "metadata": {
    "id": "P0Q9Bw7O4EP9"
   },
   "source": [
    "1. Несторя на то, медианное значение времени затраченного на обучение состаляет 3.3 часа от момента регистрации пользователя. Общие временные затрататы на прохождение всех этапов игры от регистрации до покупки у пользователей прошедших обучение меньше (91.1 часа против 107.5 часа пользователей, отказавшихся от обучения).\n",
    "2. Прохождение пользователем положительно вляет на покупку в целом. 75.4% пользователй преобретают платные пакеты вопросов разового прохождения обучения, 23.2% пользователей возвращались к обуению повторно, 1.4% покупателей отказались от  обучения. Всего пользователи проходили обучение от 1 до 9 раз в период с 2018-01-01 по 2018-01-31. Прохождение обучения положительно влияет на покупку вопросов 98.6% перед покупкой проходили обучение. \n",
    "3. Всего в 2018 году 8342 пользователей прошли этап выбора уровня сложности. 98 человек не стали проходить обучение. 8244 перед этапом 'level_choice' прошли обучение. Группа прошедшая обучению и подлежит анализу. Из 8244 пользователей 1386 вернулось повторно к обучению. Что составляет 16.81% от от общего числа пользоватлей. Не смотря на то, что большинство пользователей не возвращаются к повторному обучению, процент пользователей вернувшихся достаточно высок. Необходима дополнительная проработка этапа обучения"
   ]
  }
 ],
 "metadata": {
  "colab": {
   "name": "Копия блокнота \"PROJECT-3_АНАЛИЗ_ВОРОНКИ_ПОЛЬЗОВАТЕЛЕЙ_МОБИЛЬНОГО_ПРИЛОЖЕНИЯ_Quiz_Freeze.ipynb\"",
   "provenance": [
    {
     "file_id": "1sYcrrTkVapEosy8ZmADNsuSIWQTZIloe",
     "timestamp": 1660070122365
    }
   ]
  },
  "kernelspec": {
   "display_name": "Python 3",
   "language": "python",
   "name": "python3"
  },
  "language_info": {
   "codemirror_mode": {
    "name": "ipython",
    "version": 3
   },
   "file_extension": ".py",
   "mimetype": "text/x-python",
   "name": "python",
   "nbconvert_exporter": "python",
   "pygments_lexer": "ipython3",
   "version": "3.13.0"
  },
  "orig_nbformat": 4
 },
 "nbformat": 4,
 "nbformat_minor": 0
}
